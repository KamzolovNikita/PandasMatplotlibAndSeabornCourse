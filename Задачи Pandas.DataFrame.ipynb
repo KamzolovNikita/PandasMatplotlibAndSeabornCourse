{
 "cells": [
  {
   "attachments": {},
   "cell_type": "markdown",
   "metadata": {},
   "source": [
    "# Создание DataFrame с помощью двумерного списка"
   ]
  },
  {
   "attachments": {},
   "cell_type": "markdown",
   "metadata": {},
   "source": [
    "### Условие"
   ]
  },
  {
   "attachments": {},
   "cell_type": "markdown",
   "metadata": {},
   "source": [
    "Необходимо написать тело функции solve, которая формирует структуру данных Dataframe на основе переданных данных и передает эту структуру в качестве возвращаемого значения функции.\n",
    "\n",
    "На вход функции Solve передается:\n",
    "1. Список, содержащий N вложенных списков размера K\n",
    "2. Список наименований стобцов длины K\n",
    "3. Список индексов длиной N\n",
    "\n",
    "*Необходимо создать Dataframe не используя тип данных dict*\n",
    "\n",
    "*Для вашего удобства уже импортированы библиотеки pandas (как pd) и numpy (как np). Импортировать другие библиотеки запрещено.*\n",
    "\n",
    "*Для решения этой задачи вам необходимо знать [параметры создания DataFrame](https://pandas.pydata.org/pandas-docs/stable/reference/api/pandas.DataFrame.html).*"
   ]
  },
  {
   "attachments": {},
   "cell_type": "markdown",
   "metadata": {},
   "source": [
    "### Решение"
   ]
  },
  {
   "cell_type": "code",
   "execution_count": null,
   "metadata": {},
   "outputs": [],
   "source": [
    "def solve(data, column_names, index): \n",
    "    df = pd.DataFrame(data, index=index, columns=column_names)\n",
    "    return df"
   ]
  },
  {
   "attachments": {},
   "cell_type": "markdown",
   "metadata": {},
   "source": [
    "### Проверка"
   ]
  },
  {
   "cell_type": "code",
   "execution_count": null,
   "metadata": {},
   "outputs": [],
   "source": [
    "def solve(data, column_names, index): \n",
    "    df = pd.DataFrame(data, index=index, columns=column_names)\n",
    "    return df"
   ]
  },
  {
   "attachments": {},
   "cell_type": "markdown",
   "metadata": {},
   "source": [
    "### Тестовые данные"
   ]
  },
  {
   "cell_type": "code",
   "execution_count": null,
   "metadata": {},
   "outputs": [],
   "source": [
    "def generate():\n",
    "    test1 = [[['Algebra', 'History', 'Natural history', 'French', 'Literature'],\n",
    "            ['Physics', 'Chemistry', 'Computer science', 'Geometry', 'English'],\n",
    "            ['Ecology', 'Literature', 'Local studies ', 'Physics', 'Astronomy'],\n",
    "            ['English', 'Economics', 'Computer science', 'Russian', 'Geometry'],\n",
    "            ['Russian', 'Astronomy', 'Social science', 'Algebra', 'Chemistry']],\n",
    "            ['Mon', 'Tue', 'Wed', 'Thu', 'Sat'],\n",
    "            ['8:00', '9:00', '10:00', '11:00', '12:00']]\n",
    "    test2 = [[['1001', 'Jim', '60'],\n",
    "            ['1002', 'Billie', '20'],\n",
    "            ['1003', 'Kanye', '45'],\n",
    "            ['1004', 'Miley', '29'],\n",
    "            ['1005', 'Lana', '37'],\n",
    "            ['1006', 'Michael', '50'],\n",
    "            ['1007', 'Patrick', '57'],\n",
    "            ['1008', 'Ariana', '29']],\n",
    "            ['id', 'name', 'age'],\n",
    "            ['a', 'b', 'c', 'd', 'e', 'f', 'g', 'h']]\n",
    "    test3 = [[['333', '333', '333', '333', '333'],\n",
    "            ['222', '222', '222', '222', '222'],\n",
    "            ['111', '111', '111', '111', '111']],\n",
    "            [5, 4, 3, 2, 1],\n",
    "            [3, 4, 1]]\n",
    "    test4 = [[['qwert', 15, 15.5, \"Hello!\"],\n",
    "            ['30', 5, '-+=', -5]],\n",
    "            ['a', 'b', 'c', 'd'],\n",
    "            [10, 20]]\n",
    "    return [test1, test2, test3, test4]"
   ]
  },
  {
   "attachments": {},
   "cell_type": "markdown",
   "metadata": {},
   "source": [
    "# Создание DataFrame с помощью словаря"
   ]
  },
  {
   "attachments": {},
   "cell_type": "markdown",
   "metadata": {},
   "source": [
    "### Условие"
   ]
  },
  {
   "attachments": {},
   "cell_type": "markdown",
   "metadata": {},
   "source": [
    "Необходимо написать тело функции solve, которая формирует структуру данных Dataframe на основе переданных данных и передает эту структуру в качестве возвращаемого значения функции. Также, в качестве второго возвращаемого значения необходимо вернуть словарь, который был сформирован в ходе выполнения основного задания.\n",
    "\n",
    "На вход функции Solve передается:\n",
    "\n",
    "1. Массив, содержащий K подмассивов размера N\n",
    "2. Список наименований стобцов длины K\n",
    "3. Список индексов длиной N\n",
    "\n",
    "Необходимо создать Dataframe **используя** тип данных dict.\n",
    "\n",
    "*Для вашего удобства уже импортированы библиотеки pandas (как pd) и numpy (как np). Импортировать другие библиотеки запрещено.*\n",
    "\n",
    "*Для решения этой задачи вам необходимо знать [параметры создания DataFrame](https://pandas.pydata.org/pandas-docs/stable/reference/api/pandas.DataFrame.html).*"
   ]
  },
  {
   "attachments": {},
   "cell_type": "markdown",
   "metadata": {},
   "source": [
    "### Решение"
   ]
  },
  {
   "cell_type": "code",
   "execution_count": null,
   "metadata": {},
   "outputs": [],
   "source": [
    "def solve(data, column_names, index):\n",
    "    dt = {} \n",
    "    for i in range(len(data)):\n",
    "        dt[column_names[i]] = data[i]\n",
    "    df = pd.DataFrame(dt, index = index)\n",
    "    return df, dt"
   ]
  },
  {
   "attachments": {},
   "cell_type": "markdown",
   "metadata": {},
   "source": [
    "### Проверка"
   ]
  },
  {
   "cell_type": "code",
   "execution_count": null,
   "metadata": {},
   "outputs": [],
   "source": [
    "def check_df(reply, clue):\n",
    "    if type(reply) == type(clue) == pd.core.frame.DataFrame:\n",
    "        return reply.equals(clue)\n",
    "    return False\n",
    "\n",
    "# Проверка в основном коде на идентичность двух словарей\n",
    "output_dt == correct_output_dt"
   ]
  },
  {
   "attachments": {},
   "cell_type": "markdown",
   "metadata": {},
   "source": [
    "### Тестовые данные"
   ]
  },
  {
   "cell_type": "code",
   "execution_count": null,
   "metadata": {},
   "outputs": [],
   "source": [
    "def generate():\n",
    "    test1 = [[['Algebra', 'History', 'Natural history', 'French', 'Literature'],\n",
    "            ['Physics', 'Chemistry', 'Computer science', 'Geometry', 'English'],\n",
    "            ['Ecology', 'Literature', 'Local studies ', 'Physics', 'Astronomy'],\n",
    "            ['English', 'Economics', 'Computer science', 'Russian', 'Geometry'],\n",
    "            ['Russian', 'Astronomy', 'Social science', 'Algebra', 'Chemistry']],\n",
    "            ['Mon', 'Tue', 'Wed', 'Thu', 'Sat'],\n",
    "            ['8:00', '9:00', '10:00', '11:00', '12:00']]\n",
    "    test2 = [[['1001', '1002', '1003', '1004', '1005', '1006', '1007', '1008'],\n",
    "             ['Jim', 'Billie', 'Kanye', 'Miley', 'Lana', 'Michael', 'Patrick', 'Ariana'],\n",
    "             ['60', '20', '45', '29', '37', '50', '57', '29']],\n",
    "             ['id', 'name', 'age'],\n",
    "             ['a', 'b', 'c', 'd', 'e', 'f', 'g', 'h']]\n",
    "    test3 = [[['333', '333', '333', '333', '333'],\n",
    "            ['222', '222', '222', '222', '222'],\n",
    "            ['111', '111', '111', '111', '111']],\n",
    "            [3, 4, 1],\n",
    "            [5, 4, 3, 2, 1]]\n",
    "    test4 = [[['qwert', 15, 15.5, \"Hello!\"],\n",
    "            ['30', 5, '-+=', -5]],\n",
    "            [10, 20],\n",
    "            ['a', 'b', 'c', 'd']]\n",
    "    return [test1, test2, test3, test4]"
   ]
  },
  {
   "cell_type": "markdown",
   "metadata": {},
   "source": [
    "# Добавление столбца DataFrame"
   ]
  },
  {
   "attachments": {},
   "cell_type": "markdown",
   "metadata": {},
   "source": [
    "### Условие"
   ]
  },
  {
   "attachments": {},
   "cell_type": "markdown",
   "metadata": {},
   "source": [
    "Необходимо написать тело функции solve, которая модифицирует исходную структуру данных Dataframe на основе переданных данных и передает итоговую структуру в качестве возвращаемого значения функции.\n",
    "\n",
    "На вход функции Solve передается:\n",
    "\n",
    "1. Исходная структура Dataframe\n",
    "2. Название нового столбца\n",
    "3. Данные для нового столбца\n",
    "\n",
    "Необходимо добавить в исходную структуру данных столбец с именем и значениями, которые были переданы в функцию.\n",
    "\n",
    "*Для вашего удобства уже импортированы библиотеки pandas (как pd) и numpy (как np). Импортировать другие библиотеки запрещено.*\n",
    "\n",
    "*Для решения этой задачи вам необходимо знать, как работает оператор [DataFrame[]](https://pandas.pydata.org/pandas-docs/stable/user_guide/indexing.html)*\n"
   ]
  },
  {
   "attachments": {},
   "cell_type": "markdown",
   "metadata": {},
   "source": [
    "### Решение"
   ]
  },
  {
   "cell_type": "code",
   "execution_count": null,
   "metadata": {},
   "outputs": [],
   "source": [
    "def solve(df, new_column_name, new_column_data):\n",
    "    df[new_column_name] = new_column_data\n",
    "    return df"
   ]
  },
  {
   "attachments": {},
   "cell_type": "markdown",
   "metadata": {},
   "source": [
    "### Проверка"
   ]
  },
  {
   "cell_type": "code",
   "execution_count": null,
   "metadata": {},
   "outputs": [],
   "source": [
    "def check(reply, clue):\n",
    "    if type(reply) == type(clue) == pd.core.frame.DataFrame:\n",
    "        return reply.equals(clue)\n",
    "    return False"
   ]
  },
  {
   "attachments": {},
   "cell_type": "markdown",
   "metadata": {},
   "source": [
    "### Тестовые данные"
   ]
  },
  {
   "cell_type": "code",
   "execution_count": null,
   "metadata": {},
   "outputs": [],
   "source": [
    "def generate():\n",
    "    test1 = [pd.DataFrame({'завтрак': ['овсянка с ягодами', 'яичный бутерброд', 'тосты с авокадо', 'омлет с грибами', 'запеченное яблоко', 'гренки с творогом', 'сырники'],\n",
    "                           'обед': ['куриный салат', 'суп грибной', 'греческий салат', 'свиная отбивная', 'рыбный суп', 'паста с тунцом', 'шаурма'],\n",
    "                           'ужин': ['лосось запеченный', 'тушеная курица', 'котлеты с овощами', 'борщ', 'сэндвич с грудинкой', 'салат с креветками', 'грибная пицца']}, \n",
    "                           index = ['пн', 'вт', 'ср', 'чт', 'пт', 'сб', 'вс']),\n",
    "                           \"полдник\",\n",
    "                           ['фруктовый салат', 'моцарелла с помидорами', 'яблоко', 'греческий йогурт', 'орехи', 'зеленый смузи', 'сырок']]\n",
    "    test2 = [pd.DataFrame({'Фильм': ['Пи', 'Крепкий орешек', 'Бриллиантовая рука', 'Леон', 'Бойцовский клуб'],\n",
    "                           'Год выхода': [1998, 1988, 1969, 1994, 1999],\n",
    "                           'Страна': ['Канада', 'США', 'СССР', 'Франция', 'Германия']}),\n",
    "                           'оценка на кинопоиске',\n",
    "                           [7.6, 8.2, 8.5, 8.6, 8.6]]\n",
    "    test3 = [pd.DataFrame([[111, 111, 111, 111],\n",
    "                          [222, 222, 222, 222],\n",
    "                          [333, 333, 333, 333]]),\n",
    "             'new_column',\n",
    "             [rand(-10, 10) for i in range(3)]]\n",
    "    test4 = [pd.DataFrame([[19.72, 15.8, 7.22],\n",
    "                           [9.0, 999, 20.02]]),\n",
    "                           'old_column',\n",
    "                           [3, 0.02]]\n",
    "    return [test1, test2, test3, test4]"
   ]
  },
  {
   "attachments": {},
   "cell_type": "markdown",
   "metadata": {},
   "source": [
    "# Удаление столбца и строки DataFrame"
   ]
  },
  {
   "attachments": {},
   "cell_type": "markdown",
   "metadata": {},
   "source": [
    "### Условие"
   ]
  },
  {
   "attachments": {},
   "cell_type": "markdown",
   "metadata": {},
   "source": [
    "Необходимо написать тело функции solve, которая модифицирует исходную структуру данных Dataframe на основе переданных данных и передает эту структуру в качестве возвращаемого значения функции.\n",
    "\n",
    "На вход функции Solve передается:\n",
    "\n",
    "1. Исходная структура DataFrame\n",
    "2. Название столбца из исходного DataFrame\n",
    "3. Индекс из исходного DataFrame\n",
    "\n",
    "Необходимо удалить из исходной структуры данных строку и столбец, идентификаторы которых были переданы в функцию.\n",
    "\n",
    "*Для вашего удобства уже импортированы библиотеки pandas (как pd) и numpy (как np). Импортировать другие библиотеки запрещено.*\n",
    "\n",
    "*Для решения этой задачи вам необходимо знать, как работает метод [DataFrame.drop](https://pandas.pydata.org/pandas-docs/stable/reference/api/pandas.DataFrame.drop.html)*"
   ]
  },
  {
   "attachments": {},
   "cell_type": "markdown",
   "metadata": {},
   "source": [
    "### Решение"
   ]
  },
  {
   "cell_type": "code",
   "execution_count": null,
   "metadata": {},
   "outputs": [],
   "source": [
    "def solve(df, name, index):\n",
    "    df = df.drop(name, axis = 1)\n",
    "    df = df.drop(index, axis = 0)\n",
    "    return df"
   ]
  },
  {
   "attachments": {},
   "cell_type": "markdown",
   "metadata": {},
   "source": [
    "### Проверка"
   ]
  },
  {
   "cell_type": "code",
   "execution_count": null,
   "metadata": {},
   "outputs": [],
   "source": [
    "def check(reply, clue):\n",
    "    if type(reply) == type(clue) == pd.core.frame.DataFrame:\n",
    "        return reply.equals(clue)\n",
    "    return False"
   ]
  },
  {
   "attachments": {},
   "cell_type": "markdown",
   "metadata": {},
   "source": [
    "### Тестовые данные"
   ]
  },
  {
   "cell_type": "code",
   "execution_count": null,
   "metadata": {},
   "outputs": [],
   "source": [
    "def generate():\n",
    "    test1 = [pd.DataFrame({'завтрак': ['овсянка с ягодами', 'яичный бутерброд', 'тосты с авокадо', 'омлет с грибами', 'запеченное яблоко', 'гренки с творогом', 'сырники'],\n",
    "                           'обед': ['куриный салат', 'суп грибной', 'греческий салат', 'свиная отбивная', 'рыбный суп', 'паста с тунцом', 'шаурма'],\n",
    "                           'ужин': ['лосось запеченный', 'тушеная курица', 'котлеты с овощами', 'борщ', 'сэндвич с грудинкой', 'салат с креветками', 'грибная пицца'],\n",
    "                           'полдник': ['фруктовый салат', 'моцарелла с помидорами', 'яблоко', 'греческий йогурт', 'орехи', 'зеленый смузи', 'сырок']},\n",
    "                           index = ['пн', 'вт', 'ср', 'чт', 'пт', 'сб', 'вс']),\n",
    "                           \"полдник\",\n",
    "                           'вс']\n",
    "    test2 = [pd.DataFrame({'Фильм': ['Пи', 'Крепкий орешек', 'Бриллиантовая рука', 'Леон', 'Бойцовский клуб'],\n",
    "                           'Год выхода': [1998, 1988, 1969, 1994, 1999],\n",
    "                           'Страна': ['Канада', 'США', 'СССР', 'Франция', 'Германия'],\n",
    "                           'оценка на кинопоиске': [7.6, 8.2, 8.5, 8.6, 8.6]}),\n",
    "                           'оценка на кинопоиске',\n",
    "                           0]\n",
    "    test3 = [pd.DataFrame([[111, 111, 111, 111],\n",
    "                          [222, 222, 222, 222],\n",
    "                          [333, 333, 333, 333]],\n",
    "                          columns = ['column1', 'column2', 'column3', 'column4'],\n",
    "                          index = ['a', 'b', 'c']),\n",
    "                          'column2',\n",
    "                          'b']\n",
    "    test4 = [pd.DataFrame([[111, 111, 111, 111],\n",
    "                          [222, 222, 222, 222],\n",
    "                          [333, 333, 333, 333]],\n",
    "                          columns = ['column1', 'column2', 'column3', 'column4'],\n",
    "                          index = ['a', 'b', 'c']),\n",
    "                          'column4',\n",
    "                          'c']\n",
    "    test5 = [pd.DataFrame([[111, 111, 111, 111],\n",
    "                          [222, 222, 222, 222],\n",
    "                          [333, 333, 333, 333]],\n",
    "                          columns = ['column1', 'column2', 'column3', 'column4'],\n",
    "                          index = ['a', 'b', 'c']),\n",
    "                          'column1',\n",
    "                          'a']\n",
    "    test6 = [pd.DataFrame([[rand(-10, 10) for i in range(50)],\n",
    "                          [rand(0, 10) for i in range(50)],\n",
    "                          [np.random.choice(['a', 'b', 'c', 'd']) for i in range(50)],\n",
    "                          [shuffle(np.arange(0, 1, 0.01))[:50]]],\n",
    "                          columns = shuffle(['column{}'.format(i) for i in range(50)]),\n",
    "                          index = ['a', 'b', 'c', 'd']),\n",
    "                          'column{}'.format(rand(0, 49)),\n",
    "                          'b']\n",
    "    return [test1, test2, test3, test4, test5, test6]"
   ]
  },
  {
   "attachments": {},
   "cell_type": "markdown",
   "metadata": {},
   "source": [
    "# Множественное удаление строк и столбцов DataFrame"
   ]
  },
  {
   "attachments": {},
   "cell_type": "markdown",
   "metadata": {},
   "source": [
    "### Условие"
   ]
  },
  {
   "attachments": {},
   "cell_type": "markdown",
   "metadata": {},
   "source": [
    "Необходимо написать тело функции solve, которая модифицирует исходную структуру данных Dataframe на основе переданных данных и передает эту структуру в качестве возвращаемого значения функции.\n",
    "\n",
    "На вход функции Solve передается:\n",
    "1. Исходная структура Dataframe\n",
    "\n",
    "Необходимые преобразования:\n",
    "1. Удалить все столбцы кроме первого\n",
    "2. Удалить все строки кроме первой\n",
    "\n",
    "*Для вашего удобства уже импортированы библиотеки pandas (как pd) и numpy (как np). Импортировать другие библиотеки запрещено.*\n",
    "\n",
    "*Для решения этой задачи вам необходимо знать, как работает метод [DataFrame.drop](https://pandas.pydata.org/pandas-docs/stable/reference/api/pandas.DataFrame.drop.html)*"
   ]
  },
  {
   "attachments": {},
   "cell_type": "markdown",
   "metadata": {},
   "source": [
    "### Решение"
   ]
  },
  {
   "cell_type": "code",
   "execution_count": null,
   "metadata": {},
   "outputs": [],
   "source": [
    "def solve(df):\n",
    "    names_to_delete = df.columns[1:]\n",
    "    index_to_delete = df.index[1:]\n",
    "    df = df.drop(names_to_delete, axis = 1)\n",
    "    df = df.drop(index_to_delete, axis = 0)\n",
    "    return df"
   ]
  },
  {
   "attachments": {},
   "cell_type": "markdown",
   "metadata": {},
   "source": [
    "### Проверка"
   ]
  },
  {
   "cell_type": "code",
   "execution_count": null,
   "metadata": {},
   "outputs": [],
   "source": [
    "def check(reply, clue):\n",
    "    if type(reply) == type(clue) == pd.core.frame.DataFrame:\n",
    "        return reply.equals(clue)\n",
    "    return False"
   ]
  },
  {
   "attachments": {},
   "cell_type": "markdown",
   "metadata": {},
   "source": [
    "### Тестовые данные"
   ]
  },
  {
   "cell_type": "code",
   "execution_count": null,
   "metadata": {},
   "outputs": [],
   "source": [
    "def generate():\n",
    "    test1 = [pd.DataFrame({'завтрак': ['овсянка с ягодами', 'яичный бутерброд', 'тосты с авокадо', 'омлет с грибами', 'запеченное яблоко', 'гренки с творогом', 'сырники'],\n",
    "                           'обед': ['куриный салат', 'суп грибной', 'греческий салат', 'свиная отбивная', 'рыбный суп', 'паста с тунцом', 'шаурма'],\n",
    "                           'ужин': ['лосось запеченный', 'тушеная курица', 'котлеты с овощами', 'борщ', 'сэндвич с грудинкой', 'салат с креветками', 'грибная пицца'],\n",
    "                           'полдник': ['фруктовый салат', 'моцарелла с помидорами', 'яблоко', 'греческий йогурт', 'орехи', 'зеленый смузи', 'сырок']},\n",
    "                           index = ['пн', 'вт', 'ср', 'чт', 'пт', 'сб', 'вс'])]\n",
    "    test2 = [pd.DataFrame({'Фильм': ['Пи', 'Крепкий орешек', 'Бриллиантовая рука', 'Леон', 'Бойцовский клуб'],\n",
    "                           'Год выхода': [1998, 1988, 1969, 1994, 1999],\n",
    "                           'Страна': ['Канада', 'США', 'СССР', 'Франция', 'Германия'],\n",
    "                           'оценка на кинопоиске': [7.6, 8.2, 8.5, 8.6, 8.6]})]\n",
    "    test3 = [pd.DataFrame([[111, 111, 111, 111],\n",
    "                          [222, 222, 222, 222],\n",
    "                          [333, 333, 333, 333]],\n",
    "                          columns = ['column1', 'column2', 'column3', 'column4'],\n",
    "                          index = ['a', 'b', 'c'])]\n",
    "    test4 = [pd.DataFrame([[111, 111, 111, 111],\n",
    "                          [222, 222, 222, 222],\n",
    "                          [333, 333, 333, 333]],\n",
    "                          columns = ['column1', 'column2', 'column3', 'column4'],\n",
    "                          index = ['a', 'b', 'c'])]\n",
    "    test5 = [pd.DataFrame([[111, 111, 111, 111],\n",
    "                          [222, 222, 222, 222],\n",
    "                          [333, 333, 333, 333]],\n",
    "                          columns = ['column1', 'column2', 'column3', 'column4'],\n",
    "                          index = ['a', 'b', 'c'])]\n",
    "    test6 = [pd.DataFrame([[rand(-10, 10) for i in range(50)],\n",
    "                          [rand(0, 10) for i in range(50)],\n",
    "                          [np.random.choice(['a', 'b', 'c', 'd']) for i in range(50)],\n",
    "                          [shuffle(np.arange(0, 1, 0.01))[:50]]],\n",
    "                          columns = shuffle(['column{}'.format(i) for i in range(50)]),\n",
    "                          index = ['a', 'b', 'c', 'd'])]\n",
    "    return [test1, test2, test3, test4, test5, test6]"
   ]
  },
  {
   "attachments": {},
   "cell_type": "markdown",
   "metadata": {},
   "source": [
    "# Импортирования DataFrame. Импортируемые файлы"
   ]
  },
  {
   "attachments": {},
   "cell_type": "markdown",
   "metadata": {},
   "source": [
    "### Условие"
   ]
  },
  {
   "attachments": {},
   "cell_type": "markdown",
   "metadata": {},
   "source": [
    "Выберите из предложенных вариантов те типы файлов, которые может считать pandas.\n",
    "\n",
    "*Для решения этой задачи вам необходимо знать [методы импортирования данных.](https://pandas.pydata.org/pandas-docs/stable/user_guide/io.html)*"
   ]
  },
  {
   "attachments": {},
   "cell_type": "markdown",
   "metadata": {},
   "source": [
    "### Решение "
   ]
  },
  {
   "attachments": {},
   "cell_type": "markdown",
   "metadata": {},
   "source": [
    ".json - да\n",
    "\n",
    ".csv - да\n",
    "\n",
    ".ipynb - нет \n",
    "\n",
    ".xml - да \n",
    "\n",
    ".sql - да"
   ]
  },
  {
   "attachments": {},
   "cell_type": "markdown",
   "metadata": {},
   "source": [
    "# Импортирование DataFrame. Методы импортирования"
   ]
  },
  {
   "attachments": {},
   "cell_type": "markdown",
   "metadata": {},
   "source": [
    "### Условие"
   ]
  },
  {
   "attachments": {},
   "cell_type": "markdown",
   "metadata": {},
   "source": [
    "Отметьте, у какого из этих методов экспортирования **НЕТ** аналогичного метода для импортирования.\n",
    "\n",
    "*Для решения этой задачи вам необходимо знать [методы импортирования данных.](https://pandas.pydata.org/pandas-docs/stable/user_guide/io.html)*"
   ]
  },
  {
   "attachments": {},
   "cell_type": "markdown",
   "metadata": {},
   "source": [
    "### Решение"
   ]
  },
  {
   "attachments": {},
   "cell_type": "markdown",
   "metadata": {},
   "source": [
    "to_html - нет\n",
    "\n",
    "to_xml - нет\n",
    "\n",
    "to_excel - нет\n",
    "\n",
    "to_hdf - нет\n",
    "\n",
    "to_latex - да"
   ]
  },
  {
   "attachments": {},
   "cell_type": "markdown",
   "metadata": {},
   "source": [
    "# Срезы DataFrame"
   ]
  },
  {
   "attachments": {},
   "cell_type": "markdown",
   "metadata": {},
   "source": [
    "### Условие"
   ]
  },
  {
   "attachments": {},
   "cell_type": "markdown",
   "metadata": {},
   "source": [
    "Необходимо написать тело функции solve, которая получает исходную структуру данных Dataframe, достает из нее необходимые данные и возвращает полученные значения в качестве возвращаемого значения функции.\n",
    "\n",
    "На вход функции solve передается:\n",
    "1. Исходная структура Dataframe.\n",
    "2. Левая граница позиций\n",
    "3. Правая граница позиций\n",
    "\n",
    "Необходимо достать из исходной структуры DataFrame все строки, у которых позиция лежит в интервале, который был передан в функцию, посредством левой и правой границы (обе границы включительно). \n",
    "\n",
    "*Нумерация с 0. Гарантируется что переданные границы не выходят за границы, переданного DataFrame.*\n",
    "\n",
    "*Для вашего удобства уже импортированы библиотеки pandas (как pd) и numpy (как np). Импортировать другие библиотеки запрещено.*\n",
    "\n",
    "*Для решения этой задачи вам необходимо знать, как работает метод [DataFrame.iloc](https://pandas.pydata.org/pandas-docs/stable/reference/api/pandas.DataFrame.iloc.html) или оператор [DataFrame[]](https://pandas.pydata.org/pandas-docs/stable/user_guide/indexing.html)*\n"
   ]
  },
  {
   "attachments": {},
   "cell_type": "markdown",
   "metadata": {},
   "source": [
    "### Решение"
   ]
  },
  {
   "cell_type": "code",
   "execution_count": null,
   "metadata": {},
   "outputs": [],
   "source": [
    "def solve(df, left, right):\n",
    "    df = df[left:right+1]\n",
    "    return df"
   ]
  },
  {
   "attachments": {},
   "cell_type": "markdown",
   "metadata": {},
   "source": [
    "### Проверка"
   ]
  },
  {
   "cell_type": "code",
   "execution_count": null,
   "metadata": {},
   "outputs": [],
   "source": [
    "def check(reply, clue):\n",
    "    if type(reply) == type(clue) == pd.core.frame.DataFrame:\n",
    "        return reply.equals(clue)\n",
    "    return False"
   ]
  },
  {
   "attachments": {},
   "cell_type": "markdown",
   "metadata": {},
   "source": [
    "### Тестовые данные"
   ]
  },
  {
   "cell_type": "code",
   "execution_count": null,
   "metadata": {},
   "outputs": [],
   "source": [
    "def generate():\n",
    "    test1 = [pd.DataFrame({'Модель': ['Xiaomi Mi 10', 'Samsung Galaxy S20', 'iPhone 11', 'OnePlus 8', 'Google Pixel 4'], \n",
    "                                      'Год выпуска': [2020, 2020, 2019, 2020, 2019], \n",
    "                                      'Процессор': ['Snapdragon 865', 'Exynos 990', 'A13 Bionic', 'Snapdragon 865', 'Snapdragon 855']}), 2, 4]\n",
    "    test2 = [pd.DataFrame({'Country': ['Russia', 'USA', 'China', 'Japan', 'Germany', 'France'],\n",
    "                           'AvgHeight': [176, 178, 164, 170, 180, 172],\n",
    "                           'AvgLifeExpectancy': [72, 78, 76, 84, 81, 83]}), 0, 4]\n",
    "    test3 = [pd.DataFrame({'завтрак': ['овсянка с ягодами', 'яичный бутерброд', 'тосты с авокадо', 'омлет с грибами', 'запеченное яблоко', 'гренки с творогом', 'сырники'],\n",
    "                           'обед': ['куриный салат', 'суп грибной', 'греческий салат', 'свиная отбивная', 'рыбный суп', 'паста с тунцом', 'шаурма'],\n",
    "                           'ужин': ['лосось запеченный', 'тушеная курица', 'котлеты с овощами', 'борщ', 'сэндвич с грудинкой', 'салат с креветками', 'грибная пицца'],\n",
    "                           'полдник': ['фруктовый салат', 'моцарелла с помидорами', 'яблоко', 'греческий йогурт', 'орехи', 'зеленый смузи', 'сырок']},\n",
    "                           index = ['пн', 'вт', 'ср', 'чт', 'пт', 'сб', 'вс']), 0, 6]\n",
    "    test4 = [pd.DataFrame([[rand(-10, 10) for i in range(50)],\n",
    "                          [rand(0, 10) for i in range(50)],\n",
    "                          [np.random.choice(['a', 'b', 'c', 'd']) for i in range(50)],\n",
    "                          [shuffle(np.arange(0, 1, 0.01))[:50]]],\n",
    "                          columns = shuffle(['column{}'.format(i) for i in range(50)]),\n",
    "                          index = ['a', 'b', 'c', 'd']), 2, 2]\n",
    "    test5 = [pd.DataFrame([[rand(-10, 10) for i in range(50)],\n",
    "                          [rand(0, 10) for i in range(50)],\n",
    "                          [np.random.choice(['a', 'b', 'c', 'd']) for i in range(50)],\n",
    "                          [shuffle(np.arange(0, 1, 0.01))[:50]]],\n",
    "                          columns = shuffle(['column{}'.format(i) for i in range(50)]),\n",
    "                          index = ['a', 'b', 'c', 'd']), 2, 3]\n",
    "    test6 = [pd.DataFrame([[rand(-10, 10) for i in range(50)] for i in range (100)]), 10, 30]\n",
    "    return [test1, test2, test3, test4, test5, test6]"
   ]
  },
  {
   "attachments": {},
   "cell_type": "markdown",
   "metadata": {},
   "source": [
    "# Метод DataFrame.loc"
   ]
  },
  {
   "attachments": {},
   "cell_type": "markdown",
   "metadata": {},
   "source": [
    "### Условие"
   ]
  },
  {
   "attachments": {},
   "cell_type": "markdown",
   "metadata": {},
   "source": [
    "Необходимо написать тело функции solve, которая получает исходную структуру данных Dataframe, достает из нее необходимые данные и передает эти данные в качестве возвращаемого значения функции.\n",
    "\n",
    "На вход функции solve передается:\n",
    "\n",
    "1. Исходная структура Dataframe.\n",
    "2. Список строк - индексы.\n",
    "3. Список строк - наименования столбцов.\n",
    "\n",
    "Необходимые преобразования:\n",
    "1. Выбрать из получившейся структуры только те строки, у которых индекс входит в переданный список строк с индексами.\n",
    "2. Выбрать из получившейся структуры только те столбцы, у которых наименование входит в переданный список с наименованиями столбцов.\n",
    "\n",
    "*Гарантируется, что переданные индексы/наименования столбцов присутствуют в исходной структуре DataFrame.*\n",
    "\n",
    "*Для вашего удобства уже импортированы библиотеки pandas (как pd) и numpy (как np). Импортировать другие библиотеки запрещено.*\n",
    "\n",
    "*Для решения этой задачи вам необходимо знать, как работает метод [DataFrame.loc](https://pandas.pydata.org/pandas-docs/stable/reference/api/pandas.DataFrame.loc.html)*\n",
    "\n"
   ]
  },
  {
   "attachments": {},
   "cell_type": "markdown",
   "metadata": {},
   "source": [
    "### Решение"
   ]
  },
  {
   "cell_type": "code",
   "execution_count": null,
   "metadata": {},
   "outputs": [],
   "source": [
    "def solve(data, indices, column_names):\n",
    "    return data.loc[indices, column_names]"
   ]
  },
  {
   "attachments": {},
   "cell_type": "markdown",
   "metadata": {},
   "source": [
    "### Проверка"
   ]
  },
  {
   "cell_type": "code",
   "execution_count": null,
   "metadata": {},
   "outputs": [],
   "source": [
    "def check(reply, clue):\n",
    "    if type(reply) == type(clue) == pd.core.frame.DataFrame:\n",
    "        return reply.equals(clue)\n",
    "    return False"
   ]
  },
  {
   "attachments": {},
   "cell_type": "markdown",
   "metadata": {},
   "source": [
    "### Тестовые данные"
   ]
  },
  {
   "cell_type": "code",
   "execution_count": null,
   "metadata": {},
   "outputs": [],
   "source": [
    "def generate():\n",
    "    test1 = [pd.DataFrame({'Год выпуска': [2020, 2020, 2019, 2020, 2019], \n",
    "                           'Процессор': ['Snapdragon 865', 'Exynos 990', 'A13 Bionic', 'Snapdragon 865', 'Snapdragon 855'],\n",
    "                           'Емкость аккумулятора': [4500, 4499, 3499, 4499, 2999]},\n",
    "                           index = ['Xiaomi Mi 10', 'Samsung Galaxy S20', 'iPhone 11', 'OnePlus 8', 'Google Pixel 4']), ['Xiaomi Mi 10', 'iPhone 11'], ['Год выпуска', 'Емкость аккумулятора']]\n",
    "    test2 = [pd.DataFrame({'BirthRating': [1.6, 1.9, 1.3, 1.4, 1.7, 1.6],\n",
    "                           'AvgHeight': [176, 178, 164, 170, 180, 172],\n",
    "                           'AvgLifeExpectancy': [72, 78, 76, 84, 81, 83]},\n",
    "                           index = ['Russia', 'USA', 'China', 'Japan', 'Germany', 'France']), ['China', 'Japan'], ['AvgHeight']]\n",
    "    test3 = [pd.DataFrame({'завтрак': ['овсянка с ягодами', 'яичный бутерброд', 'тосты с авокадо', 'омлет с грибами', 'запеченное яблоко', 'гренки с творогом', 'сырники'],\n",
    "                           'обед': ['куриный салат', 'суп грибной', 'греческий салат', 'свиная отбивная', 'рыбный суп', 'паста с тунцом', 'шаурма'],\n",
    "                           'ужин': ['лосось запеченный', 'тушеная курица', 'котлеты с овощами', 'борщ', 'сэндвич с грудинкой', 'салат с креветками', 'грибная пицца'],\n",
    "                           'полдник': ['фруктовый салат', 'моцарелла с помидорами', 'яблоко', 'греческий йогурт', 'орехи', 'зеленый смузи', 'сырок']},\n",
    "                           index = ['пн', 'вт', 'ср', 'чт', 'пт', 'сб', 'вс']), ['пн', 'вт', 'ср', 'чт', 'пт', 'сб', 'вс'], ['завтрак', 'обед', 'ужин', 'полдник']]\n",
    "    test4 = [pd.DataFrame([[rand(-10, 10) for i in range(50)],\n",
    "                          [rand(0, 10) for i in range(50)],\n",
    "                          [np.random.choice(['a', 'b', 'c', 'd']) for i in range(50)],\n",
    "                          [shuffle(np.arange(0, 1, 0.01))[:50]]],\n",
    "                          columns = shuffle(['column{}'.format(i) for i in range(50)]),\n",
    "                          index = ['a', 'b', 'c', 'd']), [], []]\n",
    "    test5 = [pd.DataFrame([[rand(-10, 10) for i in range(50)] for i in range (100)]), [i for i in range(1, 99)], [i for i in range(20, 30)]]\n",
    "    return [test1, test2, test3, test4, test5]"
   ]
  },
  {
   "attachments": {},
   "cell_type": "markdown",
   "metadata": {},
   "source": [
    "# Метод DataFrame.iloc"
   ]
  },
  {
   "attachments": {},
   "cell_type": "markdown",
   "metadata": {},
   "source": [
    "### Условие"
   ]
  },
  {
   "attachments": {},
   "cell_type": "markdown",
   "metadata": {},
   "source": [
    "Необходимо написать тело функции solve, которая получает на вход исходную структуру данных Dataframe, достает из нее необходимые данные и передает эти данные в качестве возвращаемого значения функции.\n",
    "\n",
    "Необходимые преобразования:\n",
    "1. Выбрать из исходной структуры только нечетные строки.\n",
    "2. Выбрать из получившейся структуры только четные столбцы.\n",
    "\n",
    "*Примечание: 0-ая строка/столбец считается нечетной.*\n",
    "\n",
    "*Для вашего удобства уже импортированы библиотеки pandas (как pd) и numpy (как np). Импортировать другие библиотеки запрещено.*\n",
    "\n",
    "*Для решения этой задачи вам необходимо знать, как работает метод [DataFrame.iloc](https://pandas.pydata.org/pandas-docs/stable/reference/api/pandas.DataFrame.iloc.html)*\n"
   ]
  },
  {
   "attachments": {},
   "cell_type": "markdown",
   "metadata": {},
   "source": [
    "### Решение"
   ]
  },
  {
   "cell_type": "code",
   "execution_count": null,
   "metadata": {},
   "outputs": [],
   "source": [
    "def solve(df):\n",
    "    return df.iloc[::2, 1::2]"
   ]
  },
  {
   "attachments": {},
   "cell_type": "markdown",
   "metadata": {},
   "source": [
    "### Проверка"
   ]
  },
  {
   "cell_type": "code",
   "execution_count": null,
   "metadata": {},
   "outputs": [],
   "source": [
    "def check(reply, clue):\n",
    "    if type(reply) == type(clue) == pd.core.frame.DataFrame:\n",
    "        return reply.equals(clue)\n",
    "    return False"
   ]
  },
  {
   "attachments": {},
   "cell_type": "markdown",
   "metadata": {},
   "source": [
    "### Тестовые данные"
   ]
  },
  {
   "cell_type": "code",
   "execution_count": null,
   "metadata": {},
   "outputs": [],
   "source": [
    "def generate():\n",
    "    test1 = [pd.DataFrame({'Год выпуска': [2020, 2020, 2019, 2020, 2019], \n",
    "                           'Процессор': ['Snapdragon 865', 'Exynos 990', 'A13 Bionic', 'Snapdragon 865', 'Snapdragon 855'],\n",
    "                           'Емкость аккумулятора': [4500, 4499, 3499, 4499, 2999]},\n",
    "                           index = ['Xiaomi Mi 10', 'Samsung Galaxy S20', 'iPhone 11', 'OnePlus 8', 'Google Pixel 4'])]\n",
    "    test2 = [pd.DataFrame({'BirthRating': [1.6, 1.9, 1.3, 1.4, 1.7, 1.6],\n",
    "                           'AvgHeight': [176, 178, 164, 170, 180, 172],\n",
    "                           'AvgLifeExpectancy': [72, 78, 76, 84, 81, 83]},\n",
    "                           index = ['Russia', 'USA', 'China', 'Japan', 'Germany', 'France'])]\n",
    "    test3 = [pd.DataFrame({'завтрак': ['овсянка с ягодами', 'яичный бутерброд', 'тосты с авокадо', 'омлет с грибами', 'запеченное яблоко', 'гренки с творогом', 'сырники'],\n",
    "                           'обед': ['куриный салат', 'суп грибной', 'греческий салат', 'свиная отбивная', 'рыбный суп', 'паста с тунцом', 'шаурма'],\n",
    "                           'ужин': ['лосось запеченный', 'тушеная курица', 'котлеты с овощами', 'борщ', 'сэндвич с грудинкой', 'салат с креветками', 'грибная пицца'],\n",
    "                           'полдник': ['фруктовый салат', 'моцарелла с помидорами', 'яблоко', 'греческий йогурт', 'орехи', 'зеленый смузи', 'сырок']},\n",
    "                           index = ['пн', 'вт', 'ср', 'чт', 'пт', 'сб', 'вс'])]\n",
    "    test4 = [pd.DataFrame([[rand(-10, 10) for i in range(50)],\n",
    "                          [rand(0, 10) for i in range(50)],\n",
    "                          [np.random.choice(['a', 'b', 'c', 'd']) for i in range(50)],\n",
    "                          [shuffle(np.arange(0, 1, 0.01))[:50]]],\n",
    "                          columns = shuffle(['column{}'.format(i) for i in range(50)]),\n",
    "                          index = ['a', 'b', 'c', 'd'])]\n",
    "    test5 = [pd.DataFrame([[rand(-10, 10) for i in range(50)] for i in range (100)])]\n",
    "    return [test1, test2, test3, test4, test5]"
   ]
  },
  {
   "attachments": {},
   "cell_type": "markdown",
   "metadata": {},
   "source": [
    "# Фильтрация по столбцу DataFrame"
   ]
  },
  {
   "attachments": {},
   "cell_type": "markdown",
   "metadata": {},
   "source": [
    "### Условие"
   ]
  },
  {
   "attachments": {},
   "cell_type": "markdown",
   "metadata": {},
   "source": [
    "Необходимо написать тело функции solve, которая модифицирует исходную структуру данных Dataframe на основе переданных данных и передает полученную структуру в качестве возвращаемого значения функции.\n",
    "\n",
    "На вход функции solve передается:\n",
    "1. Исходный DataFrame\n",
    "2. Наименование столбца, который должен быть отфильтрован\n",
    "3. Значение для фильтрации\n",
    "\n",
    "Необходимо отфильтровать исходную структуру данных так, чтобы в итоговой структуре присутствовали только те строки, у которых значение столбца, имя которого было передано в функцию, больше либо равно значению для фильтрации.\n",
    "\n",
    "*Для вашего удобства уже импортированы библиотеки pandas (как pd) и numpy (как np). Импортировать другие библиотеки запрещено.*\n",
    "\n",
    "*Для решения этой задачи вам необходимо знать, как работает оператор [DataFrame[]](https://pandas.pydata.org/pandas-docs/stable/user_guide/indexing.html)*\n"
   ]
  },
  {
   "attachments": {},
   "cell_type": "markdown",
   "metadata": {},
   "source": [
    "### Решение"
   ]
  },
  {
   "cell_type": "code",
   "execution_count": null,
   "metadata": {},
   "outputs": [],
   "source": [
    "def solve(df, column_name, value):\n",
    "    df = df[df[column_name] >= value]\n",
    "    return df"
   ]
  },
  {
   "attachments": {},
   "cell_type": "markdown",
   "metadata": {},
   "source": [
    "### Проверка"
   ]
  },
  {
   "cell_type": "code",
   "execution_count": null,
   "metadata": {},
   "outputs": [],
   "source": [
    "def check(reply, clue):\n",
    "    if type(reply) == type(clue) == pd.core.frame.DataFrame:\n",
    "        return reply.equals(clue)\n",
    "    return False"
   ]
  },
  {
   "attachments": {},
   "cell_type": "markdown",
   "metadata": {},
   "source": [
    "### Тестовые данные"
   ]
  },
  {
   "cell_type": "code",
   "execution_count": null,
   "metadata": {},
   "outputs": [],
   "source": [
    "def generate():\n",
    "    test1 = [pd.DataFrame({'Жанр': ['Action', 'Strategy', 'RPG', 'Sports', 'Simulation', 'Adventure'],\n",
    "                           'Год выпуска': [2015, 2010, 2008, 2019, 2012, 2017],\n",
    "                           'Оценка на Metacritic': [85, 92, 87, 78, 83, 89]},\n",
    "                           index=['The Witcher 3: Wild Hunt', 'Starcraft II: Wings of Liberty','Fallout 3', 'FIFA 20', 'The Sims 4', 'Life is Strange']),\n",
    "                           'Оценка на Metacritic', 82]\n",
    "    test2 = [pd.DataFrame({'Компания-производитель': ['Nike', 'Adidas', 'New Balance', 'Puma', 'Reebok'],\n",
    "                           'Цена': [9999, 12999, 11499, 8999, 9999],\n",
    "                           'Цвет': ['Белый', 'Черный', 'Серый', 'Фиолетовый', 'Моховой зеленый']},\n",
    "                           index=['Air Max 90', 'Ultraboost 21','M990GL5', 'RS-X Bold', 'Nano X1 Grit']),\n",
    "                           'Цена', 10000]\n",
    "    test3 = [pd.DataFrame({'BirthRating': [1.6, 1.9, 1.3, 1.4, 1.7, 1.6],\n",
    "                           'AvgHeight': [176, 178, 164, 170, 180, 172],\n",
    "                           'AvgLifeExpectancy': [72, 78, 76, 84, 81, 83]},\n",
    "                           index = ['Russia', 'USA', 'China', 'Japan', 'Germany', 'France']),\n",
    "                           'BirthRating', 1.5]\n",
    "    test4 = [pd.DataFrame({'a': [rand(-10, 10) for i in range(50)],\n",
    "                          'b': [rand(0, 10) for i in range(50)],\n",
    "                          'c': [np.random.choice(['a', 'b', 'c', 'd']) for i in range(50)],\n",
    "                          'd': shuffle(np.arange(0, 1, 0.01))[:50]},\n",
    "                          index = shuffle(['index{}'.format(i) for i in range(50)])),\n",
    "                          'd', 0.34]\n",
    "    test5 = [pd.DataFrame({'a': [rand(-10, 10) for i in range(50)],\n",
    "                          'b': [rand(0, 10) for i in range(50)],\n",
    "                          'c': [np.random.choice(['a', 'b', 'c', 'd']) for i in range(50)],\n",
    "                          'd': shuffle(np.arange(0, 1, 0.01))[:50]},\n",
    "                          index = shuffle(['index{}'.format(i) for i in range(50)])),\n",
    "                          'a', -20]\n",
    "    test6 = [pd.DataFrame({'a': [rand(-10, 10) for i in range(50)],\n",
    "                          'b': [rand(0, 10) for i in range(50)],\n",
    "                          'c': [np.random.choice(['a', 'b', 'c', 'd']) for i in range(50)],\n",
    "                          'd': shuffle(np.arange(0, 1, 0.01))[:50]},\n",
    "                          index = shuffle(['index{}'.format(i) for i in range(50)])),\n",
    "                          'a', 20]\n",
    "    return [test1, test2, test3, test4, test5, test6]"
   ]
  },
  {
   "attachments": {},
   "cell_type": "markdown",
   "metadata": {},
   "source": [
    "# Метод isin, фильтрация нескольких столбцов DataFrame"
   ]
  },
  {
   "attachments": {},
   "cell_type": "markdown",
   "metadata": {},
   "source": [
    "### Условие"
   ]
  },
  {
   "attachments": {},
   "cell_type": "markdown",
   "metadata": {},
   "source": [
    "Необходимо написать тело функции solve, которая модифицирует исходную структуру данных Dataframe на основе переданных данных и передает полученную структуру в качестве возвращаемого значения функции.\n",
    "\n",
    "На вход функции solve передается:\n",
    "1. Исходный DataFrame\n",
    "2. Список недопустимых индексов\n",
    "3. Словарь, с соответствием: название столбца - предельное значение\n",
    "\n",
    "Необходимые преобразования:\n",
    "1. Отфильтровать исходный Dataframe так, чтобы в полученный DataFrame не входили строки с индексами из списка недопустимых индексов.\n",
    "2. Отфильтровать полученный на предыдущем шаге Dataframe так, чтобы в итоговый DataFrame входили только строки, для которых каждый столбец отфильтрован так, что в нем нет значений больше предельного.\n",
    "\n",
    "*Гарантируется, что в словаре с соответствием названия столбца и предельного значения присутствуют только те наименования столбцов, которые есть в исходной структуре DataFrame.*\n",
    "\n",
    "*Для вашего удобства уже импортированы библиотеки pandas (как pd) и numpy (как np). Импортировать другие библиотеки запрещено.*\n",
    "\n",
    "*Для решения этой задачи вам необходимо знать, как работают метод [Index.isin](https://pandas.pydata.org/pandas-docs/stable/reference/api/pandas.Index.isin.html) и оператор [DataFrame[]](https://pandas.pydata.org/pandas-docs/stable/user_guide/indexing.html)*\n"
   ]
  },
  {
   "attachments": {},
   "cell_type": "markdown",
   "metadata": {},
   "source": [
    "### Решение"
   ]
  },
  {
   "cell_type": "code",
   "execution_count": null,
   "metadata": {},
   "outputs": [],
   "source": [
    "def solve(data, indices, column_to_max):\n",
    "    data = data[~data.index.isin(indices)]\n",
    "    for key, value in column_to_max.items():\n",
    "        data = data[data[key] <= value]\n",
    "    return data"
   ]
  },
  {
   "attachments": {},
   "cell_type": "markdown",
   "metadata": {},
   "source": [
    "### Проверка"
   ]
  },
  {
   "cell_type": "code",
   "execution_count": null,
   "metadata": {},
   "outputs": [],
   "source": [
    "def check(reply, clue):\n",
    "    if type(reply) == type(clue) == pd.core.frame.DataFrame:\n",
    "        return reply.equals(clue)\n",
    "    return False"
   ]
  },
  {
   "attachments": {},
   "cell_type": "markdown",
   "metadata": {},
   "source": [
    "### Тестовые данные"
   ]
  },
  {
   "cell_type": "code",
   "execution_count": null,
   "metadata": {},
   "outputs": [],
   "source": [
    "def generate():\n",
    "    test1 = [pd.DataFrame({'Жанр': ['Action', 'Strategy', 'RPG', 'Sports', 'Simulation', 'Adventure'],\n",
    "                           'Год выпуска': [2015, 2010, 2008, 2019, 2012, 2017],\n",
    "                           'Оценка на Metacritic': [85, 92, 87, 78, 83, 89]},\n",
    "                           index=['The Witcher 3: Wild Hunt', 'Starcraft II: Wings of Liberty','Fallout 3', 'FIFA 20', 'The Sims 4', 'Life is Strange']),\n",
    "                           ['Fallout 3', 'FIFA 20'],\n",
    "                           {'Оценка на Metacritic': 90, 'Год выпуска': 2015}]\n",
    "    test2 = [pd.DataFrame({'Компания-производитель': ['Nike', 'Adidas', 'New Balance', 'Puma', 'Reebok'],\n",
    "                           'Цена': [9999, 12999, 11499, 8999, 9999],\n",
    "                           'Цвет': ['Белый', 'Черный', 'Серый', 'Фиолетовый', 'Моховой зеленый']},\n",
    "                           index=['Air Max 90', 'Ultraboost 21','M990GL5', 'RS-X Bold', 'Nano X1 Grit']),\n",
    "                           ['Ultraboost 21', 'RS-X Bold', 'Old Skull'],\n",
    "                           {'Цена': 12000}]\n",
    "    test3 = [pd.DataFrame({'BirthRating': [1.6, 1.9, 1.3, 1.4, 1.7, 1.6],\n",
    "                           'AvgHeight': [176, 178, 164, 170, 180, 172],\n",
    "                           'AvgLifeExpectancy': [72, 78, 76, 84, 81, 83]},\n",
    "                           index = ['Russia', 'USA', 'China', 'Japan', 'Germany', 'France']),\n",
    "                           ['Russia', 'USA'],\n",
    "                           {'BirthRating': 1.6, 'AvgHeight': 176, 'AvgLifeExpectancy': 81}]\n",
    "    test4 = [pd.DataFrame([[rand(-10, 10) for i in range(50)],\n",
    "                          [rand(0, 10) for i in range(50)],\n",
    "                          [np.random.choice(['a', 'b', 'c', 'd']) for i in range(50)],\n",
    "                          shuffle(np.arange(0, 1, 0.01))[:50]],\n",
    "                          index = ['a', 'b', 'c', 'd']),\n",
    "                          ['a', 'b', 'c', 'd'],\n",
    "                          {}]\n",
    "    test5 = [pd.DataFrame({0: [rand(-10, 10) for i in range(50)],\n",
    "                          1: [rand(0, 10) for i in range(50)],\n",
    "                          2: [np.random.choice(['a', 'b', 'c', 'd']) for i in range(50)],\n",
    "                          3: shuffle(np.arange(0, 1, 0.01))[:50]},\n",
    "                          index = [\"index{}\".format(i) for i in range(50)]),\n",
    "                          [],\n",
    "                          {0: 20}]\n",
    "    test6 = [pd.DataFrame({0: [rand(-10, 10) for i in range(50)],\n",
    "                          1: [rand(0, 10) for i in range(50)],\n",
    "                          2: [np.random.choice(['a', 'b', 'c', 'd']) for i in range(50)],\n",
    "                          3: shuffle(np.arange(0, 1, 0.01))[:50]},\n",
    "                          index = [\"index{}\".format(i) for i in range(50)]),\n",
    "                          ['index0', 'index1'],\n",
    "                          {0: 0, 1: 3, 3: 0.4}]\n",
    "    return [test1, test2, test3, test4, test5, test6]"
   ]
  },
  {
   "attachments": {},
   "cell_type": "markdown",
   "metadata": {},
   "source": [
    "# Строковые методы Pandas"
   ]
  },
  {
   "attachments": {},
   "cell_type": "markdown",
   "metadata": {},
   "source": [
    "### Условие"
   ]
  },
  {
   "attachments": {},
   "cell_type": "markdown",
   "metadata": {},
   "source": [
    "Сопоставьте строковый метод и какое воздействие он оказывает на Series/DataFrame\n",
    "\n",
    "*Для решения этой задачи вам необходимо знать, как работают [строковые методы Pandas](https://pandas.pydata.org/pandas-docs/stable/user_guide/text.html)*"
   ]
  },
  {
   "attachments": {},
   "cell_type": "markdown",
   "metadata": {},
   "source": [
    "### Решение"
   ]
  },
  {
   "attachments": {},
   "cell_type": "markdown",
   "metadata": {},
   "source": [
    ".str.lower() - Приведение к нижнему регистру\n",
    "\n",
    ".str.len() - Вычисление длины строки\n",
    "\n",
    ".str.find() - Поиск индекса вхождения подстроки в строку\n",
    "\n",
    ".str.get() - Получение значения по индексу\n",
    "\n",
    ".str.isdigit() - Проверка на то является ли строка числом"
   ]
  },
  {
   "attachments": {},
   "cell_type": "markdown",
   "metadata": {},
   "source": [
    "# Сортировка DataFrame"
   ]
  },
  {
   "attachments": {},
   "cell_type": "markdown",
   "metadata": {},
   "source": [
    "### Условие"
   ]
  },
  {
   "attachments": {},
   "cell_type": "markdown",
   "metadata": {},
   "source": [
    "**Задание повышенной сложности.**\n",
    "\n",
    "Необходимо написать тело функции solve, которая сортирует исходную структуру данных Dataframe на основе переданных данных и передает полученную структуру в качестве возвращаемого значения функции.\n",
    "\n",
    "На вход функции solve передается исходный DataFrame и наименования столбца, по которому проводится сортировка.\n",
    "\n",
    "Условия сортировки:\n",
    "1. Все строки должны быть отсортированы по выбранному столбцу в порядке возрастания\n",
    "2. Если тип данных столбца - строка, то сортировка должна быть нерегистрозависимой (здесь нельзя менять DataFrame, воспользуйтесь параметром key)\n",
    "3. Все значения NaN выбранного столбца должны быть в конце\n",
    "4. Столбцы (имена) также должны быть отсортированы по размеру строки в порядке возрастания (аналогично, воспользуйтесь параметром key)\n",
    "\n",
    "Примечание: у строковых столбцов явно прописан dtype == \"string\"\n",
    "\n",
    "*Для вашего удобства уже импортированы библиотеки pandas (как pd) и numpy (как np). Импортировать другие библиотеки запрещено.*\n",
    "\n",
    "*Для решения этой задачи вам необходимо знать, как работают методы [DataFrame.sort_values](https://pandas.pydata.org/pandas-docs/stable/reference/api/pandas.DataFrame.sort_values.html), [DataFrame.sort_index](https://pandas.pydata.org/pandas-docs/stable/reference/api/pandas.DataFrame.sort_index.html), а также [строковые методы Pandas](https://pandas.pydata.org/pandas-docs/stable/user_guide/text.html)*"
   ]
  },
  {
   "attachments": {},
   "cell_type": "markdown",
   "metadata": {},
   "source": [
    "### Решение"
   ]
  },
  {
   "cell_type": "code",
   "execution_count": null,
   "metadata": {},
   "outputs": [],
   "source": [
    "def solve(df, name):\n",
    "    df.sort_values(by=name, ascending=True, na_position='last', \n",
    "                            key=lambda col: col.str.lower() if col.dtype == \"string\" else col, inplace=True)\n",
    "    df.sort_index(axis=1, key=lambda col: col.str.len(), inplace=True)\n",
    "    return df"
   ]
  },
  {
   "attachments": {},
   "cell_type": "markdown",
   "metadata": {},
   "source": [
    "### Проверка"
   ]
  },
  {
   "cell_type": "code",
   "execution_count": null,
   "metadata": {},
   "outputs": [],
   "source": [
    "def check(reply, clue):\n",
    "    if type(reply) == type(clue) == pd.core.frame.DataFrame:\n",
    "        return reply.equals(clue)\n",
    "    return False"
   ]
  },
  {
   "attachments": {},
   "cell_type": "markdown",
   "metadata": {},
   "source": [
    "### Тестовые данные"
   ]
  },
  {
   "cell_type": "code",
   "execution_count": null,
   "metadata": {},
   "outputs": [],
   "source": [
    "def generate():\n",
    "    test1 = [pd.DataFrame({'BirthRating': [1.6, 1.9, 1.3, 1.4, 1.7, 1.6],\n",
    "                           'AvgHeight': [176, 178, np.nan, 170, np.nan, 172],\n",
    "                           'AvgLifeExpectancy': [72, 78, 76, 84, 81, 83]},\n",
    "                           index = ['Russia', 'USA', 'China', 'Japan', 'Germany', 'France']),\n",
    "                           'AvgHeight']\n",
    "    test2 = [pd.DataFrame({'Жанр': ['Action', 'Strategy', 'RPG', np.nan, 'simulation', 'adventure'],\n",
    "                           'Год выпуска': [2015, 2010, 2008, 2019, 2012, 2017],\n",
    "                           'Оценка на Metacritic': [85, 92, 87, 78, 83, 89]},\n",
    "                           index=['The Witcher 3: Wild Hunt', 'Starcraft II: Wings of Liberty','Fallout 3', 'FIFA 20', 'The Sims 4', 'Life is Strange'])\n",
    "                           .astype(dtype={'Жанр': 'string'}),\n",
    "                           'Жанр']\n",
    "    test3 = [pd.DataFrame({'Компания-производитель': ['Nike', 'Adidas', 'new Balance', 'Puma', 'Reebok'],\n",
    "                           'Цена': [9999, 12999, 11499, 8999, 9999],\n",
    "                           'Цвет': ['Белый', 'Черный', 'Серый', 'Фиолетовый', 'Моховой зеленый']},\n",
    "                           index=['Air Max 90', 'Ultraboost 21','M990GL5', 'RS-X Bold', 'Nano X1 Grit'])\n",
    "                           .astype(dtype={'Компания-производитель': 'string'}),\n",
    "                           'Компания-производитель']\n",
    "    \n",
    "    column = \"\".join([np.random.choice(['a', 'b', 'c']) for i in range(3)])\n",
    "    test4 = [pd.DataFrame({\"\".join([np.random.choice(['a', 'b', 'c']) for i in range(5)]): [rand(-10, 10) for i in range(50)],\n",
    "                          \"\".join([np.random.choice(['a', 'b', 'c']) for i in range(2)]): [rand(0, 10) for i in range(50)],\n",
    "                          column: [np.random.choice(['a', 'b', 'c', 'A', 'B', 'C', np.nan]) for i in range(50)],\n",
    "                          \"\".join([np.random.choice(['a', 'b', 'c']) for i in range(7)]): shuffle(np.arange(0, 1, 0.01))[:50]},\n",
    "                          index = pd.Series(shuffle([\"index{}\".format(i) for i in range(50)]), dtype='string'))\n",
    "                          .astype(dtype={column: 'string'}),\n",
    "                          column]\n",
    "    \n",
    "    column = \"\".join([np.random.choice(['a', 'b', 'c']) for i in range(23)])\n",
    "    test5 = [pd.DataFrame({\"\".join([np.random.choice(['a', 'b', 'c']) for i in range(10)]): [rand(-10, 10) for i in range(50)],\n",
    "                          \"\".join([np.random.choice(['a', 'b', 'c']) for i in range(5)]): [rand(0, 10) for i in range(50)],\n",
    "                          column: [np.nan for i in range(50)],\n",
    "                          \"\".join([np.random.choice(['a', 'b', 'c']) for i in range(15)]): shuffle(np.arange(0, 1, 0.01))[:50]},\n",
    "                          index = shuffle([\"index{}\".format(i) for i in range(50)])),\n",
    "                          column]\n",
    "    \n",
    "    column = \"\".join([np.random.choice(['a', 'b', 'c']) for i in range(1)])\n",
    "    test6 = [pd.DataFrame({\"\".join([np.random.choice(['a', 'b', 'c']) for i in range(13)]): [rand(-10, 10) for i in range(100)],\n",
    "                          \"\".join([np.random.choice(['a', 'b', 'c']) for i in range(2)]): [rand(0, 10) for i in range(100)],\n",
    "                          \"\".join([np.random.choice(['a', 'b', 'c']) for i in range(56)]): [np.nan for i in range(100)],\n",
    "                          column: shuffle(np.arange(0, 2, 0.01))[:100]},\n",
    "                          index = shuffle([\"index{}\".format(i) for i in range(100)])),\n",
    "                          column]\n",
    "    return [test1, test2, test3, test4, test5, test6]"
   ]
  },
  {
   "attachments": {},
   "cell_type": "markdown",
   "metadata": {},
   "source": [
    "# Методы DataFrame.map, DataFrame.applymap"
   ]
  },
  {
   "attachments": {},
   "cell_type": "markdown",
   "metadata": {},
   "source": [
    "### Условие"
   ]
  },
  {
   "attachments": {},
   "cell_type": "markdown",
   "metadata": {},
   "source": [
    "Необходимо написать тело функции solve, которая модифицирует исходную структуру данных Dataframe на основе переданных данных и передает полученную структуру в качестве возвращаемого значения функции.\n",
    "\n",
    "На вход функции solve передается исходный DataFrame.\n",
    "\n",
    "Необходимые преобразования:\n",
    "1. Каждый элемент в исходном DataFrame умножить на 2.\n",
    "2. Для каждого столбца посчитать размах после применения первого шага преобразований.\n",
    "\n",
    "Итоговым ответом должна быть структура данных Series, где индексы - наименования столбцов исходной структуры DataFrame, а значения - посчитанный размах для каждого столбца.\n",
    "\n",
    "*Гарантируется, что все столбцы исходной DataFrame имееют числовой тип.*\n",
    "\n",
    "*Для вашего удобства уже импортированы библиотеки pandas (как pd) и numpy (как np). Импортировать другие библиотеки запрещено.*\n",
    "\n",
    "*Для решения этой задачи вам необходимо знать, как работают методы [DataFrame.apply](https://pandas.pydata.org/pandas-docs/stable/reference/api/pandas.DataFrame.apply.html) и [DataFrame.applymap](https://pandas.pydata.org/pandas-docs/stable/reference/api/pandas.DataFrame.applymap.html)*"
   ]
  },
  {
   "attachments": {},
   "cell_type": "markdown",
   "metadata": {},
   "source": [
    "### Решение"
   ]
  },
  {
   "cell_type": "code",
   "execution_count": null,
   "metadata": {},
   "outputs": [],
   "source": [
    "def solve(df):\n",
    "    df = df.applymap(lambda x: x * 2)\n",
    "    df = df.apply(lambda x: x.max() - x.min())\n",
    "    return df"
   ]
  },
  {
   "attachments": {},
   "cell_type": "markdown",
   "metadata": {},
   "source": [
    "### Проверка"
   ]
  },
  {
   "cell_type": "code",
   "execution_count": null,
   "metadata": {},
   "outputs": [],
   "source": [
    "def check(reply, clue):\n",
    "    if type(reply) == type(clue) == pd.core.frame.Series:\n",
    "        return reply.equals(clue)\n",
    "    return False"
   ]
  },
  {
   "attachments": {},
   "cell_type": "markdown",
   "metadata": {},
   "source": [
    "### Тестовые данные"
   ]
  },
  {
   "cell_type": "code",
   "execution_count": null,
   "metadata": {},
   "outputs": [],
   "source": [
    "def generate():\n",
    "    test1 = [pd.DataFrame({'BirthRating': [1.6, 1.9, 1.3, 1.4, 1.7, 1.6],\n",
    "                           'AvgHeight': [176, 178, 168, 170, 174, 172],\n",
    "                           'AvgLifeExpectancy': [72, 78, 76, 84, 81, 83]},\n",
    "                           index = ['Russia', 'USA', 'China', 'Japan', 'Germany', 'France'])]\n",
    "    test2 = [pd.DataFrame({'Пропуски': [1, 2, 0, 3, 2, 1],\n",
    "                           'Средняя оценка': [4.5, 3.8, 4.2, 3.7, 4.1, 3.9],\n",
    "                           'Сдано лаб': [4, 5, 6, 4, 6, 5]},\n",
    "                           index = ['Иван', 'Мария', 'Петр', 'Анна', 'Денис', 'Ольга'])]\n",
    "    test3 = [pd.DataFrame({0: [rand(-10, 10) for i in range(100)],\n",
    "                          1: [rand(0, 10) for i in range(100)],\n",
    "                          3: shuffle(np.arange(0, 2, 0.01))[:100]},\n",
    "                          index = shuffle([\"index{}\".format(i) for i in range(100)]))]\n",
    "    test4 = [pd.DataFrame({0: [rand(-20, 0) for i in range(100)],\n",
    "                          1: [rand(0, 10) for i in range(100)],\n",
    "                          3: shuffle(np.arange(-3, 1, 0.01))[:100]},\n",
    "                          index = shuffle([\"index{}\".format(i) for i in range(100)]))]\n",
    "    test5 = [pd.DataFrame([[rand(-10, 10) for i in range(50)] for i in range(100)])]\n",
    "    return [test1, test2, test3, test4, test5]"
   ]
  },
  {
   "attachments": {},
   "cell_type": "markdown",
   "metadata": {},
   "source": [
    "# Методы для избавления от NaN в DataFrame"
   ]
  },
  {
   "attachments": {},
   "cell_type": "markdown",
   "metadata": {},
   "source": [
    "### Условие"
   ]
  },
  {
   "attachments": {},
   "cell_type": "markdown",
   "metadata": {},
   "source": [
    "Соедините метод для борьбы с отсутствующими данными в DataFrame и описание его работы.\n",
    "\n",
    "*Для решения этой задачи вам необходимо знать, как работают методы [DataFrame.dropna](https://pandas.pydata.org/pandas-docs/stable/reference/api/pandas.DataFrame.dropna.html) и [DataFrame.fillna](https://pandas.pydata.org/pandas-docs/stable/reference/api/pandas.DataFrame.fillna.html)*"
   ]
  },
  {
   "attachments": {},
   "cell_type": "markdown",
   "metadata": {},
   "source": [
    "### Решение"
   ]
  },
  {
   "attachments": {},
   "cell_type": "markdown",
   "metadata": {},
   "source": [
    "fillna() - Замена пропусков на конкретное значение\n",
    "\n",
    "dropna(axis=1) - Удаление всех столбцов, в которых имеются пропуски\n",
    "\n",
    "dropna(axis=0) - Удаление всех строк, в которых имеются пропуски"
   ]
  },
  {
   "attachments": {},
   "cell_type": "markdown",
   "metadata": {},
   "source": [
    "# Метод DataFrame.dropna с указанием thresh"
   ]
  },
  {
   "attachments": {},
   "cell_type": "markdown",
   "metadata": {},
   "source": [
    "### Условие"
   ]
  },
  {
   "attachments": {},
   "cell_type": "markdown",
   "metadata": {},
   "source": [
    "Необходимо написать тело функции solve, которая принимает на вход исходную структуру DataFrame, удаляет в структуре все столбцы, в которых встречается больше 3 значений NaN и передает полученную структуру в качестве возвращаемого значения функции.\n",
    "\n",
    "*Для вашего удобства уже импортированы библиотеки pandas (как pd) и numpy (как np). Импортировать другие библиотеки запрещено.*\n",
    "\n",
    "*Для решения этой задачи вам необходимо знать, как работает метод [DataFrame.dropna](https://pandas.pydata.org/pandas-docs/stable/reference/api/pandas.DataFrame.dropna.html).*"
   ]
  },
  {
   "attachments": {},
   "cell_type": "markdown",
   "metadata": {},
   "source": [
    "### Решение"
   ]
  },
  {
   "cell_type": "code",
   "execution_count": null,
   "metadata": {},
   "outputs": [],
   "source": [
    "def solve(df):\n",
    "    df.dropna(axis=1, thresh=df.shape[0] - 3, inplace=True)\n",
    "    return df"
   ]
  },
  {
   "attachments": {},
   "cell_type": "markdown",
   "metadata": {},
   "source": [
    "### Проверка"
   ]
  },
  {
   "cell_type": "code",
   "execution_count": null,
   "metadata": {},
   "outputs": [],
   "source": [
    "def check(reply, clue):\n",
    "    if type(reply) == type(clue) == pd.core.frame.DataFrame:\n",
    "        return reply.equals(clue)\n",
    "    return False"
   ]
  },
  {
   "attachments": {},
   "cell_type": "markdown",
   "metadata": {},
   "source": [
    "### Тестовые данные"
   ]
  },
  {
   "cell_type": "code",
   "execution_count": null,
   "metadata": {},
   "outputs": [],
   "source": [
    "def generate():\n",
    "    test1 = [pd.DataFrame({'BirthRating': [1.6, np.nan, 1.3, np.nan, np.nan, np.nan],\n",
    "                           'AvgHeight': [176, 178, 168, 170, 174, 172],\n",
    "                           'AvgLifeExpectancy': [np.nan, 78, 76, np.nan, 81, 83]},\n",
    "                           index = ['Russia', 'USA', 'China', 'Japan', 'Germany', 'France'])]\n",
    "    test2 = [pd.DataFrame({'Пропуски': [1, np.nan, np.nan, np.nan, 2, np.nan],\n",
    "                           'Средняя оценка': [np.nan, np.nan, 4.2, 3.7, np.nan, 4.4],\n",
    "                           'Сдано лаб': [np.nan, 5, 6, 4, 6, 5]},\n",
    "                           index = ['Иван', 'Мария', 'Петр', 'Анна', 'Денис', 'Ольга'])]\n",
    "    test3 = [pd.DataFrame({0: [rand(-10, 10) for i in range(50)],\n",
    "                          1: [rand(0, 10) for i in range(50)],\n",
    "                          2: [np.random.choice(['a', 'b', 'c', np.nan]) for i in range(50)],\n",
    "                          3: shuffle(np.arange(0, 1, 0.01))[:50]},\n",
    "                          index = shuffle([\"index{}\".format(i) for i in range(50)]))]\n",
    "    test4 = [pd.DataFrame([[np.nan for i in range(4)] + [rand(-10, 10) for i in range(50)] for i in range(100)])]\n",
    "    test5 = [pd.DataFrame([[np.nan for i in range(3)] + [rand(-10, 10) for i in range(50)] for i in range(100)])]\n",
    "    return [test1, test2, test3, test4, test5]"
   ]
  },
  {
   "attachments": {},
   "cell_type": "markdown",
   "metadata": {},
   "source": [
    "# Комбинирование методов избавления от NaN в DataFrame"
   ]
  },
  {
   "attachments": {},
   "cell_type": "markdown",
   "metadata": {},
   "source": [
    "### Условие"
   ]
  },
  {
   "attachments": {},
   "cell_type": "markdown",
   "metadata": {},
   "source": [
    "Необходимо написать тело функции solve, которая модифицирует исходную структуру данных Dataframe на основе переданных данных и передает эту структуру в качестве возвращаемого значения функции.\n",
    "\n",
    "Необходимые преобразования:\n",
    "1. Удалить столбцы, в которых встречается больше 3 значений NaN.\n",
    "2. Удалить строки, в которых встречается больше 2 значений NaN, после выполнения первого шага.\n",
    "3. Заполните оставшиеся значения NaN средним значением по столбцу.\n",
    "4. Удалите дублирующиеся строки.\n",
    "\n",
    "*Для вашего удобства уже импортированы библиотеки pandas (как pd) и numpy (как np). Импортировать другие библиотеки запрещено.* \n",
    "\n",
    "*Для решения этой задачи вам необходимо знать, как работают методы [DataFrame.dropna](https://pandas.pydata.org/pandas-docs/stable/reference/api/pandas.DataFrame.dropna.html), [DataFrame.fillna](https://pandas.pydata.org/pandas-docs/stable/reference/api/pandas.DataFrame.fillna.html) и [DataFrame.drop_duplicates](https://pandas.pydata.org/pandas-docs/stable/reference/api/pandas.DataFrame.drop_duplicates.html)*\n"
   ]
  },
  {
   "attachments": {},
   "cell_type": "markdown",
   "metadata": {},
   "source": [
    "### Решение"
   ]
  },
  {
   "cell_type": "code",
   "execution_count": null,
   "metadata": {},
   "outputs": [],
   "source": [
    "def solve(df):\n",
    "    df.dropna(axis=1, thresh=df.shape[0] - 3, inplace=True)\n",
    "    df.dropna(axis=0, thresh=df.shape[1] - 2, inplace=True)\n",
    "    df.fillna(df.mean(), inplace=True)\n",
    "    df.drop_duplicates(inplace=True)\n",
    "    return df"
   ]
  },
  {
   "attachments": {},
   "cell_type": "markdown",
   "metadata": {},
   "source": [
    "### Проверка"
   ]
  },
  {
   "cell_type": "code",
   "execution_count": null,
   "metadata": {},
   "outputs": [],
   "source": [
    "def check(reply, clue):\n",
    "    if type(reply) == type(clue) == pd.core.frame.DataFrame:\n",
    "        return reply.equals(clue)\n",
    "    return False"
   ]
  },
  {
   "attachments": {},
   "cell_type": "markdown",
   "metadata": {},
   "source": [
    "### Тестовые данные"
   ]
  },
  {
   "cell_type": "code",
   "execution_count": null,
   "metadata": {},
   "outputs": [],
   "source": [
    "def generate():\n",
    "    test1 = [pd.DataFrame({'каллорийность': [np.nan, np.nan, 57, 48, np.nan, 34, 52, 52, np.nan],\n",
    "                        'средний вес': [200, np.nan, np.nan, np.nan, 300, 100, 230, 230, 170],\n",
    "                        'средняя цена': [80, np.nan, 60, 70, 90, 40, 75, 75, np.nan]},\n",
    "                        index = ['яблоко', 'банан', 'апельсин', 'груша', 'ананас', 'киви', 'манго', 'манго', 'виноград'])]\n",
    "    test2 = [pd.DataFrame({'Протяженность': [np.nan, 1.2, np.nan, 2.7, 1.5, np.nan],\n",
    "                       'Ширина': [25, 10, 8, 17, np.nan, 16],\n",
    "                       'Ближайшее метро': ['Адмиралтейская', 'Невский проспект', 'Гостиный двор', 'Садовая', 'Сенная площадь', 'Площадь Восстания']},\n",
    "                       index = ['Невский проспект', 'Большая Морская улица', 'Малая Конюшенная улица', 'Садовая улица', 'Казанская улица', 'Литейный проспект'])]\n",
    "    test3 = [pd.DataFrame({0: [rand(-10, 10) for i in range(47)] + [np.nan for i in range(3)],\n",
    "                          1: [rand(0, 10) for i in range(47)] + [np.nan for i in range(3)],\n",
    "                          2: [np.random.choice(['a', 'b', 'c', np.nan]) for i in range(46)] + [np.nan for i in range(4)],\n",
    "                          3: shuffle(np.arange(0, 1, 0.01))[:50]},\n",
    "                          index = shuffle([\"index{}\".format(i) for i in range(50)]))]\n",
    "    test4 = [pd.DataFrame([[rand(-10, 10) for i in range(47)] + [np.nan for i in range(2)],\n",
    "                          [rand(0, 10) for i in range(48)] + [np.nan for i in range(2)],\n",
    "                          [rand(0, 10) for i in range(47)] + [np.nan for i in range(3)],\n",
    "                          [i for i in range(50)],\n",
    "                          [i for i in range(50)],\n",
    "                          [i for i in range(50)],\n",
    "                          [rand(0, 10) for i in range(35)] + [np.nan for i in range(15)],\n",
    "                          [rand(0, 10) for i in range(25)] + [np.nan for i in range(25)],\n",
    "                          [rand(0, 10) for i in range(25)] + [np.nan for i in range(25)],\n",
    "                          [rand(0, 10) for i in range(25)] + [np.nan for i in range(25)]],\n",
    "                          index = ['a', 'b', 'c', 'd', 'd', 'd', 'e', 'f', 'g', 'h'])]\n",
    "    return [test1, test2, test3, test4]"
   ]
  },
  {
   "attachments": {},
   "cell_type": "markdown",
   "metadata": {},
   "source": [
    "# Метод DataFrame.concat"
   ]
  },
  {
   "attachments": {},
   "cell_type": "markdown",
   "metadata": {},
   "source": [
    "### Условие"
   ]
  },
  {
   "attachments": {},
   "cell_type": "markdown",
   "metadata": {},
   "source": [
    "Необходимо написать тело функции solve, которая модифицирует исходную структуру данных Dataframe на основе переданных данных и передает эту структуру в качестве возвращаемого значения функции, а также функцию split, которая принимает на входу структуру данных DataFrame, разделяет ее и передает массив DataFrame'ов в качестве возвращаемого значения функции.\n",
    "\n",
    "Функция split должна разделить исходный DataFrame на 3 равные части по строкам (гарантируется что количество строк в DataFrame'e делится на 3). Функция split также будет проверяться.\n",
    "\n",
    "Функция solve должна сначала вызвать функцию split, а затем, с полученными данными соединить таблицу в одну, так, чтобы итоговая структура имела следующий порядок частей исходной структуры: 2, 3, 1.\n",
    "\n",
    "*Для вашего удобства уже импортированы библиотеки pandas (как pd) и numpy (как np). Импортировать другие библиотеки запрещено*\n",
    "\n",
    "*Для решения этой задачи вам необходимо знать, как работают методы [DataFrame.iloc](https://pandas.pydata.org/pandas-docs/stable/reference/api/pandas.DataFrame.iloc.html), [Pandas.concat](https://pandas.pydata.org/pandas-docs/stable/reference/api/pandas.concat.html), а также свойство [DataFrame.shape](https://pandas.pydata.org/pandas-docs/stable/reference/api/pandas.DataFrame.shape.html)*\n"
   ]
  },
  {
   "attachments": {},
   "cell_type": "markdown",
   "metadata": {},
   "source": [
    "### Решение"
   ]
  },
  {
   "cell_type": "code",
   "execution_count": null,
   "metadata": {},
   "outputs": [],
   "source": [
    "def split(df):\n",
    "    bucket_size = df.shape[0] // 3\n",
    "    return [df.iloc[0 : bucket_size], df.iloc[bucket_size : 2 * bucket_size], df.iloc[2 * bucket_size : 3 * bucket_size]]\n",
    "\n",
    "def solve(df):\n",
    "    splitted = split(df)\n",
    "    return pd.concat([splitted[1], splitted[2], splitted[0]])"
   ]
  },
  {
   "attachments": {},
   "cell_type": "markdown",
   "metadata": {},
   "source": [
    "### Проверка"
   ]
  },
  {
   "cell_type": "code",
   "execution_count": null,
   "metadata": {},
   "outputs": [],
   "source": [
    "def check_solve(reply, clue):\n",
    "    if type(reply) == type(clue) == pd.core.frame.DataFrame:\n",
    "        return reply.equals(clue)\n",
    "    return False\n",
    "\n",
    "def check_split(reply, clue):\n",
    "    for i in range(3):\n",
    "        if type(reply[i]) != pd.core.frame.DataFrame or type(clue[i]) != pd.core.frame.DataFrame:\n",
    "            return False\n",
    "        if reply[i].equals(clue[i]) == False:\n",
    "            return False\n",
    "    return True"
   ]
  },
  {
   "attachments": {},
   "cell_type": "markdown",
   "metadata": {},
   "source": [
    "### Тестовые данные"
   ]
  },
  {
   "cell_type": "code",
   "execution_count": null,
   "metadata": {},
   "outputs": [],
   "source": [
    "def generate():\n",
    "    test1 = [pd.DataFrame({'Цена': [127.79, 2352.78, 255.91, 3351.63, 709.44, 311.54, 152.09, 168.77, 130.63, 59.81, 420603.00, 141.91],\n",
    "                       'Изменение цены за день': [-0.61, 2.82, -0.27, -3.36, -2.24, 0.39, -0.62, -0.14, -0.56, -1.24, 89.00, -2.14]},\n",
    "                       index = ['Apple', 'Google', 'Microsoft', 'Amazon', 'Tesla', 'Facebook', 'JPMorgan Chase', 'Johnson & Johnson', 'Procter & Gamble', 'Exxon Mobil', 'Berkshire Hathaway', 'JP Morgan'])]\n",
    "    test2 = [pd.DataFrame({'Состояние(в млрд)': [65, 90, 105, 59, 78, 70, 50, 80, 75, 66, 85, 62],\n",
    "                       'Национальность': ['США', 'Китай', 'Россия', 'Франция', 'Саудовская Аравия', 'Япония', 'Бразилия', 'Индия', 'Канада', 'Германия', 'Израиль', 'Австралия'],\n",
    "                       'Dозраст': [57, 46, 54, 66, 34, 71, 40, 63, 59, 60, 76, 57],\n",
    "                       'Жертвует ли на благотворительность': [True, False, True, True, False, False, True, True, False, False, True, False]},\n",
    "                       index = ['Джефф Безос', 'Гонг Вэнь', 'Владимир Потанин', 'Бернар Арно', 'Альвалиджи', 'Такео Фукуи', \n",
    "                                'Йозеф Фернандо', 'Дилеш Амбани', 'Дэвид Томсон', 'Карл Альбрехт', 'Майкл Блумберг', 'Гари Джоузеф Картер'])]\n",
    "    \n",
    "    test3 = [pd.DataFrame({0: [rand(-10, 10) for i in range(51)],\n",
    "                          1: [rand(0, 10) for i in range(51)],\n",
    "                          2: [np.random.choice(['a', 'b', 'c', np.nan]) for i in range(51)],\n",
    "                          3: shuffle(np.arange(0, 1, 0.01))[:51]},\n",
    "                          index = shuffle([\"index{}\".format(i) for i in range(51)]))]\n",
    "    test3 = [pd.DataFrame({0: [rand(-10, 10) for i in range(1002)],\n",
    "                          1: [rand(0, 10) for i in range(1002)],\n",
    "                          2: [np.random.choice(['a', 'b', 'c', np.nan]) for i in range(1002)],\n",
    "                          3: shuffle(np.arange(0, 15, 0.01))[:1002]},\n",
    "                          index = shuffle([\"index{}\".format(i) for i in range(1002)]))]\n",
    "    return [test1, test2, test3]"
   ]
  },
  {
   "attachments": {},
   "cell_type": "markdown",
   "metadata": {},
   "source": [
    "# Метод DataFrame.merge"
   ]
  },
  {
   "attachments": {},
   "cell_type": "markdown",
   "metadata": {},
   "source": [
    "### Условие"
   ]
  },
  {
   "attachments": {},
   "cell_type": "markdown",
   "metadata": {},
   "source": [
    "Необходимо написать тело функции solve, которая объединяет две структуры данных DataFrame и передает, полученную структуру в качестве возвращаемого значения.\n",
    "\n",
    "Необходимо выполнить слияние двух структур по индексам. Гарантируется, что все индексы первой структуры (left) имеются в индексах второй (right). Однако, у второй структуры могут быть лишние индексы, которые необходимо исключить при слиянии.\n",
    "\n",
    "На выходе должна получиться структура, в которой содержатся все индексы первой исходной структуры и все столбцы из обоих исходных структур вместе.\n",
    "\n",
    "*Для вашего удобства уже импортированы библиотеки pandas (как pd) и numpy (как np). Импортировать другие библиотеки запрещено.*\n",
    "\n",
    "*Для решения этой задачи вам необходимо знать, как работают метод [Pandas.merge.](https://pandas.pydata.org/pandas-docs/stable/reference/api/pandas.DataFrame.merge.html)*\n"
   ]
  },
  {
   "attachments": {},
   "cell_type": "markdown",
   "metadata": {},
   "source": [
    "### Решение"
   ]
  },
  {
   "cell_type": "code",
   "execution_count": null,
   "metadata": {},
   "outputs": [],
   "source": [
    "def solve(left, right):\n",
    "    left.index.name = \"key\"\n",
    "    right.index.name = \"key\"\n",
    "    return pd.merge(left, right, on=\"key\")"
   ]
  },
  {
   "attachments": {},
   "cell_type": "markdown",
   "metadata": {},
   "source": [
    "### Проверка"
   ]
  },
  {
   "cell_type": "code",
   "execution_count": null,
   "metadata": {},
   "outputs": [],
   "source": [
    "def check(reply, clue):\n",
    "    if type(reply) == type(clue) == pd.core.frame.DataFrame:\n",
    "        return reply.equals(clue)\n",
    "    return False"
   ]
  },
  {
   "attachments": {},
   "cell_type": "markdown",
   "metadata": {},
   "source": [
    "### Тестовые данные"
   ]
  },
  {
   "cell_type": "code",
   "execution_count": null,
   "metadata": {},
   "outputs": [],
   "source": [
    "def generate():\n",
    "    test1 = [pd.DataFrame({'Состояние(в млрд)': [65, 90, 105, 59, 78, 70, 50, 80, 75, 66, 85, 62],\n",
    "                       'Национальность': ['США', 'Китай', 'Россия', 'Франция', 'Саудовская Аравия', 'Япония', 'Бразилия', 'Индия', 'Канада', 'Германия', 'Израиль', 'Австралия']},\n",
    "                       index = ['Джефф Безос', 'Гонг Вэнь', 'Владимир Потанин', 'Бернар Арно', 'Альвалиджи', 'Такео Фукуи', \n",
    "                                'Йозеф Фернандо', 'Дилеш Амбани', 'Дэвид Томсон', 'Карл Альбрехт', 'Майкл Блумберг', 'Гари Джоузеф Картер']),\n",
    "            pd.DataFrame({'Возраст': [57, 46, 54, 66, 34, 71, 40, 63, 59, 60, 76, 57],\n",
    "                          'Жертвует деньги': [True, False, True, True, False, False, True, True, False, False, True, False]},\n",
    "                          index = ['Джефф Безос', 'Гонг Вэнь', 'Владимир Потанин', 'Бернар Арно', 'Альвалиджи', 'Такео Фукуи', \n",
    "                                'Йозеф Фернандо', 'Дилеш Амбани', 'Дэвид Томсон', 'Карл Альбрехт', 'Майкл Блумберг', 'Гари Джоузеф Картер'])]\n",
    "    test2 = [pd.DataFrame({'Жанр': ['Action', 'Strategy', 'RPG', 'Sport', 'simulation', 'adventure'],\n",
    "                           'Год выпуска': [2015, 2010, 2008, 2019, 2012, 2017]},\n",
    "                           index=['The Witcher 3', 'Starcraft II','Fallout 3', 'FIFA 20', 'The Sims 4', 'Life is Strange']),\n",
    "            pd.DataFrame({'Оценка': [85, 92, 87, 78, 83, 89],\n",
    "                           'Студия': ['CD Projekt RED', 'Blizzard', 'Bethesda', 'EA', 'EA', 'Feral']},\n",
    "                           index=['The Witcher 3', 'Starcraft II','Fallout 3', 'FIFA 20', 'The Sims 4', 'Life is Strange'])]\n",
    "    \n",
    "    test3 = [pd.DataFrame({'Цена': [127.79, 2352.78, 255.91, 3351.63, 709.44, 311.54, 152.09, 168.77, 130.63, 59.81, 420603.00, 141.91]},\n",
    "                       index = ['Apple', 'Google', 'Microsoft', 'Amazon', 'Tesla', 'Facebook', 'JPMorgan Chase', \n",
    "                                'Johnson & Johnson', 'Procter & Gamble', 'Exxon Mobil', 'Berkshire Hathaway', 'JP Morgan']),\n",
    "            pd.DataFrame({'Изменение цены за день': [-0.61, 2.82, -0.27, -3.36, -2.24, 0.39, -0.62, -0.14, -0.56, -1.24, 89.00, -2.14]},\n",
    "                       index = ['Apple', 'Google', 'Microsoft', 'Amazon', 'Tesla', 'Facebook', 'JPMorgan Chase', \n",
    "                                'Johnson & Johnson', 'Procter & Gamble', 'Exxon Mobil', 'Berkshire Hathaway', 'JP Morgan'])]\n",
    "    \n",
    "    index = shuffle([\"index{}\".format(i) for i in range(1002)])\n",
    "    test4 = [pd.DataFrame({0: [rand(-10, 10) for i in range(1002)],\n",
    "                          1: [rand(0, 10) for i in range(1002)]},\n",
    "                          index = index),\n",
    "            pd.DataFrame({2: [np.random.choice(['a', 'b', 'c', np.nan]) for i in range(1002)],\n",
    "                          3: shuffle(np.arange(0, 15, 0.01))[:1002]},\n",
    "                          index = index)]\n",
    "    test5 = [pd.DataFrame([[rand(-10, 10) for i in range(50)] for i in range(100)]), pd.DataFrame([[rand(-10, 10) for i in range(50)] for i in range(100)])]\n",
    "    return [test1, test2, test3, test4, test5]"
   ]
  },
  {
   "attachments": {},
   "cell_type": "markdown",
   "metadata": {},
   "source": [
    "# Функция reduce"
   ]
  },
  {
   "attachments": {},
   "cell_type": "markdown",
   "metadata": {},
   "source": [
    "### Условие"
   ]
  },
  {
   "attachments": {},
   "cell_type": "markdown",
   "metadata": {},
   "source": [
    "Необходимо написать тело функции solve(), которая принимает на вход список чисел и вычисляет минимальный элемент в списке с помощью функции reduce().\n",
    "\n",
    "Постарайтесь решить именно с помощью функции reduce, так как с помощью нее вы упростите себе решение следующей задачи.\n",
    "\n",
    "*Функция reduce уже импортирована из модуля functools. Импортировать другие библиотеки запрещено.*\n",
    "\n",
    "*Для решения этой задачи вам необходимо знать, как работает функция [reduce](https://docs-python.ru/standart-library/modul-functools-python/funktsija-reduce-modulja-functools/).*\n"
   ]
  },
  {
   "attachments": {},
   "cell_type": "markdown",
   "metadata": {},
   "source": [
    "### Решение"
   ]
  },
  {
   "cell_type": "code",
   "execution_count": null,
   "metadata": {},
   "outputs": [],
   "source": [
    "def solve(data):\n",
    "    return reduce(lambda x, y: x if (x < y) else y, data)"
   ]
  },
  {
   "attachments": {},
   "cell_type": "markdown",
   "metadata": {},
   "source": [
    "### Проверка"
   ]
  },
  {
   "cell_type": "code",
   "execution_count": null,
   "metadata": {},
   "outputs": [],
   "source": [
    "def check(reply, clue):\n",
    "    return reply == clue"
   ]
  },
  {
   "attachments": {},
   "cell_type": "markdown",
   "metadata": {},
   "source": [
    "### Тестовые данные"
   ]
  },
  {
   "cell_type": "code",
   "execution_count": null,
   "metadata": {},
   "outputs": [],
   "source": [
    "def generate():\n",
    "    test1 = [23, 10, 2, 3, 4, 0, 6, 11, 14, 16, 18]\n",
    "    test2 = [0, 10, 2, 3, 4, -5, 18, -33, 21, 16, 9]\n",
    "    test3 = [rand(10, 20) for i in range(40)]\n",
    "    test4 = [rand(-30, 0) for i in range(100)]\n",
    "    test5 = [rand(-10, 10) for i in range(100)]\n",
    "    return [test1, test2, test3, test4, test5]"
   ]
  },
  {
   "attachments": {},
   "cell_type": "markdown",
   "metadata": {},
   "source": [
    "# Сводная таблица DataFrame"
   ]
  },
  {
   "attachments": {},
   "cell_type": "markdown",
   "metadata": {},
   "source": [
    "### Условие"
   ]
  },
  {
   "attachments": {},
   "cell_type": "markdown",
   "metadata": {},
   "source": [
    "Необходимо написать тело функции solve, которая формирует сводную таблицу на основе переданной структуры данных Dataframe и передает эту таблицу в качестве возвращаемого значения функции.\n",
    "\n",
    "На вход функции solve передается исходный DataFrame с индексами по умолчанию и столбцами A, B, C, D, E.\n",
    "\n",
    "Правила по которым должна быть построена сводная таблица:\n",
    "1. Столбец B - индекс первого порядка, С - второго.\n",
    "2. Исключен столбец E.\n",
    "3. В столбец A записан результат произведения повторяющихся значений, которые появились после переноса B и C в индексы.\n",
    "4. В столбец D записан результат сложения по модулю 5 повторяющихся значений, которые появились после переноса B и C в индексы.\n",
    "\n",
    "*Для вашего удобства уже импортированы библиотеки pandas (как pd) и numpy (как np). Импортировать другие библиотеки запрещено.*\n",
    "\n",
    "*Для решения этой задачи вам необходимо знать, как работает метод [DataFrame.pivot_table](https://pandas.pydata.org/pandas-docs/stable/reference/api/pandas.DataFrame.pivot_table.html).*"
   ]
  },
  {
   "attachments": {},
   "cell_type": "markdown",
   "metadata": {},
   "source": [
    "### Решение"
   ]
  },
  {
   "cell_type": "code",
   "execution_count": null,
   "metadata": {},
   "outputs": [],
   "source": [
    "def multiply(series):\n",
    "      return reduce(lambda x, y: x * y, series)\n",
    "\n",
    "def sum_5(series):\n",
    "      return reduce(lambda x, y: (x + y) % 5, series)\n",
    "\n",
    "def solve(df):\n",
    "    return pd.pivot_table(df, values = [\"A\", \"D\"], index = [\"B\", \"C\"], aggfunc = {\"A\": multiply, \"D\": sum_5})"
   ]
  },
  {
   "attachments": {},
   "cell_type": "markdown",
   "metadata": {},
   "source": [
    "### Проверка"
   ]
  },
  {
   "cell_type": "code",
   "execution_count": null,
   "metadata": {},
   "outputs": [],
   "source": [
    "def check(reply, clue):\n",
    "    if type(reply) == type(clue) == pd.core.frame.DataFrame:\n",
    "        return reply.equals(clue)\n",
    "    return False"
   ]
  },
  {
   "attachments": {},
   "cell_type": "markdown",
   "metadata": {},
   "source": [
    "### Тестовые данные"
   ]
  },
  {
   "cell_type": "code",
   "execution_count": null,
   "metadata": {},
   "outputs": [],
   "source": [
    "def generate():\n",
    "    test1 = [pd.DataFrame({\"E\": [\"sedan\", \"hatchback\", \"sedan\", \"sedan\", \"hatchback\", \"hatchback\", \"hatchback\", \"sedan\", \"sedan\"],\n",
    "                           \"B\": [\"mercedes\", \"bmw\", \"bmw\", \"bmw\", \"mercedes\", \"mercedes\", \"mercedes\", \"bmw\", \"bmw\"],\n",
    "                           \"C\": [\"diesel\", \"petrol\", \"diesel\", \"petrol\", \"petrol\", \"diesel\", \"diesel\", \"petrol\", \"petrol\"],\n",
    "                           \"D\": [1, 2, 2, 3, 3, 4, 5, 6, 7],\n",
    "                           \"A\": [2, 4, 5, 5, 6, 6, 8, 9, 9]})]\n",
    "    test2 = [pd.DataFrame({\"E\": [\"HDMI\", \"HDMI\", \"VGA\", \"VGA\", \"VGA\", \"VGA\", \"HDMI\", \"HDMI\", \"VGA\"],\n",
    "                           \"B\": [\"VA\", \"VA\", \"VA\", \"IPS\", \"IPS\", \"VA\", \"IPS\", \"IPS\", \"VA\"],\n",
    "                           \"C\": [\"aoc\", \"philips\", \"aoc\", \"philips\", \"aoc\", \"aoc\", \"aoc\", \"philips\", \"philips\"],\n",
    "                           \"D\": [2, 4, 5, 5, 6, 6, 8, 9, 9],\n",
    "                           \"A\": [1.4, 5.6, 2.9, 3.5, 2.6, 0.25, 3.55, 1.33, 9.3]})]\n",
    "    test3 = [pd.DataFrame({\"E\": [np.random.choice(['a', 'b', 'c', 'd']) for i in range(50)],\n",
    "                           \"B\": [np.random.choice(['c', 'd']) for i in range(50)],\n",
    "                           \"C\": [np.random.choice(['a', 'b']) for i in range(50)],\n",
    "                           \"D\": [rand(0, 20) for i in range(50)],\n",
    "                           \"A\": shuffle(np.arange(0, 5, 0.02)[:50])})]\n",
    "    test4 = [pd.DataFrame({\"E\": [np.random.choice(['a', 'b', 'c', 'd']) for i in range(50)],\n",
    "                           \"B\": [np.random.choice(['c', 'd']) for i in range(50)],\n",
    "                           \"C\": [np.random.choice(['a', 'b']) for i in range(50)],\n",
    "                           \"A\": [rand(-10, 10) for i in range(50)],\n",
    "                           \"D\": shuffle(np.arange(0, 5, 0.02)[:50])})]\n",
    "    return [test1, test2, test3, test4]"
   ]
  },
  {
   "attachments": {},
   "cell_type": "markdown",
   "metadata": {},
   "source": [
    "# Методы агрегации Pandas"
   ]
  },
  {
   "attachments": {},
   "cell_type": "markdown",
   "metadata": {},
   "source": [
    "### Условие"
   ]
  },
  {
   "attachments": {},
   "cell_type": "markdown",
   "metadata": {},
   "source": [
    "Установите соответствие между действием и, соответствующим ему, методом агрегации.\n",
    "\n",
    "Для решения этой задачи вам необходимо знать, как работают [агрегирующие методы](https://pandas.pydata.org/pandas-docs/stable/user_guide/groupby.html#built-in-aggregation-methods)."
   ]
  },
  {
   "attachments": {},
   "cell_type": "markdown",
   "metadata": {},
   "source": [
    "### Решение"
   ]
  },
  {
   "attachments": {},
   "cell_type": "markdown",
   "metadata": {},
   "source": [
    "Cуммирование - sum\n",
    "\n",
    "Среднее значение - mean\n",
    "\n",
    "Нахождение медианы - median\n",
    "\n",
    "Нахождение дисперсии - var\n",
    "\n",
    "Произведение - prod"
   ]
  },
  {
   "attachments": {},
   "cell_type": "markdown",
   "metadata": {},
   "source": [
    "# Метод DataFrame.groupby"
   ]
  },
  {
   "attachments": {},
   "cell_type": "markdown",
   "metadata": {},
   "source": [
    "### Условие"
   ]
  },
  {
   "attachments": {
    "image-2.png": {
     "image/png": "[encoded data removed]"
    },
    "image.png": {
     "image/png": "[encoded data removed]"
    }
   },
   "cell_type": "markdown",
   "metadata": {},
   "source": [
    "Исходная структура данных DataFrame содержала следующие данные:\n",
    "\n",
    "![image.png](attachment:image.png)\n",
    "\n",
    "Исходную структуру сгруппировали и аггрегировали данные. В итоге получилась следующая структура данных:\n",
    "\n",
    "![image.png](attachment:image-2.png)\n",
    "\n",
    "Выберите строчку кода, с помощью которой произвели данное преобразование.\n",
    "\n",
    "Для решения этой задачи вам необходимо знать, как работают [агрегирующие методы](https://pandas.pydata.org/pandas-docs/stable/user_guide/groupby.html#built-in-aggregation-methods) и метод [DataFrame.groupby](https://pandas.pydata.org/pandas-docs/stable/reference/api/pandas.DataFrame.groupby.html)\n"
   ]
  },
  {
   "attachments": {},
   "cell_type": "markdown",
   "metadata": {},
   "source": [
    "### Решение"
   ]
  },
  {
   "attachments": {},
   "cell_type": "markdown",
   "metadata": {},
   "source": [
    "*df.groupby([\"category\"]).agg( {\"kcal\": [\"sum\", \"var\"], \"price\": [\"median\", \"prod\"]})* - да\n",
    "\n",
    "*df.groupby([\"category\"]).agg( {\"price\": [\"sum\", \"var\"], \"kcal\": [\"median\", \"prod\"]})* - нет\n",
    "\n",
    "*df.groupby([\"product\"]).agg( {\"kcal\": [\"sum\", \"mean\"], \"price\": [\"var\", \"prod\"]})* - нет\n",
    "\n",
    "*df.agg( {\"kcal\": [\"sum\", \"var\"], \"price\": [\"median\", \"prod\"]}).groupby([\"category\"])* - нет"
   ]
  },
  {
   "attachments": {},
   "cell_type": "markdown",
   "metadata": {},
   "source": [
    "# Математические операции над DataFrame"
   ]
  },
  {
   "attachments": {},
   "cell_type": "markdown",
   "metadata": {},
   "source": [
    "### Условие"
   ]
  },
  {
   "attachments": {},
   "cell_type": "markdown",
   "metadata": {},
   "source": [
    "Необходимо написать тело функции solve, которая модифицирует исходную структуру данных Dataframe на основе переданных данных и передает эту структуру в качестве возвращаемого значения функции.\n",
    "\n",
    "На вход функции solve передается исходный DataFrame с индексами по умолчанию и столбцами A, B, C, D, E, а также структура данных Series, которая будет задействована в преобразованиях.\n",
    "\n",
    "Необходимые преобразования:\n",
    "\n",
    "1. Вычесть из каждого столбца исходного DataFrame значения структуры данных Series, переданной в функцию. Гарантируется, что переданный Series - это измененный столбец исходной DataFrame, из чего следует, что размеры и индексы совпадают.\n",
    "2. Прибавить ко всем значениям столбца 'B' 3-ку, из всех значений столбца 'C' вычесть 2-ку\n",
    "3. Возвести все значения, полученного Dataframe во 2-ю степень.\n",
    "\n",
    "*Для вашего удобства уже импортированы библиотеки pandas (как pd) и numpy (как np). Импортировать другие библиотеки запрещено.*\n",
    "\n",
    "*Для решения этой задачи вам необходимо знать, как работают математические методы [DataFrame.add](https://pandas.pydata.org/pandas-docs/stable/reference/api/pandas.DataFrame.add.html#), [DataFrame.sub](https://pandas.pydata.org/pandas-docs/stable/reference/api/pandas.DataFrame.sub.html), [DataFrame.pow](https://pandas.pydata.org/pandas-docs/stable/reference/api/pandas.DataFrame.pow.html).*\n"
   ]
  },
  {
   "attachments": {},
   "cell_type": "markdown",
   "metadata": {},
   "source": [
    "### Решение"
   ]
  },
  {
   "cell_type": "code",
   "execution_count": null,
   "metadata": {},
   "outputs": [],
   "source": [
    "def solve(df, series):\n",
    "    series.index = df.index\n",
    "    df = df.sub(series, axis='index')\n",
    "    df = df.add({'A': 0, 'B': 3, 'C': -2, \"D\": 0, \"E\": 0})\n",
    "    df = df ** 2\n",
    "    return df"
   ]
  },
  {
   "attachments": {},
   "cell_type": "markdown",
   "metadata": {},
   "source": [
    "### Проверка"
   ]
  },
  {
   "cell_type": "code",
   "execution_count": null,
   "metadata": {},
   "outputs": [],
   "source": [
    "def check(reply, clue):\n",
    "    if type(reply) == type(clue) == pd.core.frame.DataFrame:\n",
    "        return reply.equals(clue)\n",
    "    return False"
   ]
  },
  {
   "attachments": {},
   "cell_type": "markdown",
   "metadata": {},
   "source": [
    "### Тестовые данные"
   ]
  },
  {
   "cell_type": "code",
   "execution_count": null,
   "metadata": {},
   "outputs": [],
   "source": [
    "def generate():\n",
    "    positive_float_array = np.arange(0, 5, 0.02)\n",
    "    negative_float_array = np.arange(0, 5, 0.02)\n",
    "    shuffled_float_array = np.arange(-5, 5, 0.04)\n",
    "\n",
    "    df = pd.DataFrame({\"A\": [rand(1, 10) for i in range(7)],\n",
    "                           \"B\": [rand(-10, 0) for i in range(7)],\n",
    "                           \"C\": [positive_float_array[rand(0, 249)] for i in range(7)],\n",
    "                           \"D\": [negative_float_array[rand(0, 249)] for i in range(7)],\n",
    "                           \"E\": [shuffled_float_array[rand(0, 249)] for i in range(7)]})\n",
    "    test1 = [df, df['A'] + 12]\n",
    "\n",
    "    df = pd.DataFrame({\"A\": [rand(1, 10) for i in range(9)],\n",
    "                           \"B\": [rand(-10, 0) for i in range(9)],\n",
    "                           \"C\": [positive_float_array[rand(0, 249)] for i in range(9)],\n",
    "                           \"D\": [negative_float_array[rand(0, 249)] for i in range(9)],\n",
    "                           \"E\": [shuffled_float_array[rand(0, 249)] for i in range(9)]})\n",
    "    test2 = [df, df['E'] ** 0.5]\n",
    "\n",
    "    df = pd.DataFrame({\"A\": [negative_float_array[rand(0, 249)] for i in range(100)],\n",
    "                           \"B\": [positive_float_array[rand(0, 249)] for i in range(100)],\n",
    "                           \"C\": [rand(-10, 0) for i in range(100)],\n",
    "                           \"D\": [rand(1, 10) for i in range(100)],\n",
    "                           \"E\": [shuffled_float_array[rand(0, 249)] for i in range(100)]})\n",
    "    test3 = [df, df['C'] + 3]\n",
    "\n",
    "    df = pd.DataFrame({\"A\": [negative_float_array[rand(0, 249)] for i in range(100)],\n",
    "                           \"B\": [positive_float_array[rand(0, 249)] for i in range(100)],\n",
    "                           \"C\": [rand(-10, 0) for i in range(100)],\n",
    "                           \"D\": [shuffled_float_array[rand(0, 249)] for i in range(100)],\n",
    "                           \"E\": [rand(1, 10) for i in range(100)]})\n",
    "    test4 = [df, df['A']]\n",
    "\n",
    "    return [test1, test2, test3, test4]"
   ]
  },
  {
   "attachments": {},
   "cell_type": "markdown",
   "metadata": {},
   "source": [
    "# Методы категориального типа данных"
   ]
  },
  {
   "attachments": {},
   "cell_type": "markdown",
   "metadata": {},
   "source": [
    "### Условие"
   ]
  },
  {
   "attachments": {},
   "cell_type": "markdown",
   "metadata": {},
   "source": [
    "Установите соответствие между методом категориального типа данных и действием, которое ему соответствуют.\n",
    "\n",
    "Для решения этой задачи вам необходимо знать, как работают методы [Series.cat.add_categories](https://pandas.pydata.org/pandas-docs/stable/reference/api/pandas.Series.cat.add_categories.html), [Series.cat.as_ordered](https://pandas.pydata.org/pandas-docs/stable/reference/api/pandas.Series.cat.as_ordered.html), [Series.cat.rename_categories](https://pandas.pydata.org/pandas-docs/stable/reference/api/pandas.Series.cat.rename_categories.html), [Series.cat.remove_unused_categories](https://pandas.pydata.org/pandas-docs/stable/reference/api/pandas.Series.cat.remove_unused_categories.html)."
   ]
  },
  {
   "attachments": {},
   "cell_type": "markdown",
   "metadata": {},
   "source": [
    "### Решение"
   ]
  },
  {
   "attachments": {},
   "cell_type": "markdown",
   "metadata": {},
   "source": [
    ".cat.add_categories - Добавить категории\n",
    "\n",
    ".cat.as_ordered - Сделать категориальный тип данных упорядоченным\n",
    "\n",
    ".cat.rename_categories - Переименовать категории\n",
    "\n",
    ".cat.remove_unused_categories - Удалить неиспользуемые категории"
   ]
  },
  {
   "attachments": {},
   "cell_type": "markdown",
   "metadata": {},
   "source": [
    "# Использование категориального типа данных"
   ]
  },
  {
   "attachments": {},
   "cell_type": "markdown",
   "metadata": {},
   "source": [
    "### Условие"
   ]
  },
  {
   "attachments": {},
   "cell_type": "markdown",
   "metadata": {},
   "source": [
    "Необходимо написать тело функции solve, которая модифицирует исходную структуру данных Dataframe на основе переданных данных и передает эту структуру в качестве возвращаемого значения функции.\n",
    "\n",
    "На вход функции solve передается исходный DataFrame, у которого есть столбец \"country\" со странами из набора {\"France\", \"England\", \"Russia\"}.\n",
    "\n",
    "Необходимые преобразования:\n",
    "\n",
    "1. Преобразовать столбец \"country\" так, чтобы его тип стал категориальным.\n",
    "2. Перевести наименования стран на русский, используя переименование категорий.\n",
    "\n",
    "*Переводы: France - Франция, Russia - Россия, England - Англия* \n",
    "\n",
    "*Для вашего удобства уже импортированы библиотеки pandas (как pd) и numpy (как np). Импортировать другие библиотеки запрещено.*\n",
    "\n",
    "*Для решения этой задачи вам необходимо знать, как работают методы [DataFrame.astype](https://pandas.pydata.org/pandas-docs/stable/reference/api/pandas.DataFrame.astype.html) и [Series.cat.rename_categories](https://pandas.pydata.org/pandas-docs/stable/reference/api/pandas.Series.cat.rename_categories.html).*"
   ]
  },
  {
   "attachments": {},
   "cell_type": "markdown",
   "metadata": {},
   "source": [
    "### Решение"
   ]
  },
  {
   "cell_type": "code",
   "execution_count": null,
   "metadata": {},
   "outputs": [],
   "source": [
    "def solve(df):\n",
    "    df['country'] = df['country'].astype('category')\n",
    "    df['country'] = df['country'].cat.rename_categories({'France': 'Франция', 'England': 'Англия', 'Russia': 'Россия'}) \n",
    "    return df"
   ]
  },
  {
   "attachments": {},
   "cell_type": "markdown",
   "metadata": {},
   "source": [
    "### Проверка"
   ]
  },
  {
   "cell_type": "code",
   "execution_count": null,
   "metadata": {},
   "outputs": [],
   "source": [
    "def check(reply, clue):\n",
    "    if type(reply) == type(clue) == pd.core.frame.DataFrame:\n",
    "        return reply.equals(clue)\n",
    "    return False"
   ]
  },
  {
   "attachments": {},
   "cell_type": "markdown",
   "metadata": {},
   "source": [
    "### Тестовые данные"
   ]
  },
  {
   "cell_type": "code",
   "execution_count": null,
   "metadata": {},
   "outputs": [],
   "source": [
    "def generate():\n",
    "    positive_float_array = np.arange(0, 5, 0.02)\n",
    "    negative_float_array = np.arange(0, 5, 0.02)\n",
    "    shuffled_float_array = np.arange(-5, 5, 0.04)\n",
    "\n",
    "    test1 = [pd.DataFrame({\"A\": [rand(0, 10) for i in range(8)],\n",
    "                           \"D\": [rand(0, 10) for i in range(8)],\n",
    "                           \"country\": [np.random.choice(['France', 'England', 'Russia']) for i in range(8)]})]\n",
    "    test2 = [pd.DataFrame({\"A\": [rand(0, 10) for i in range(10)],\n",
    "                           \"D\": [rand(0, 10) for i in range(10)],\n",
    "                           \"country\": [np.random.choice(['France', 'England', 'Russia']) for i in range(10)]})]\n",
    "    test3 = [pd.DataFrame({\"A\": [rand(0, 10) for i in range(100)],\n",
    "                           \"D\": [rand(0, 10) for i in range(100)],\n",
    "                           \"country\": [np.random.choice(['France', 'England', 'Russia']) for i in range(100)]})]\n",
    "\n",
    "    return [test1, test2, test3]"
   ]
  }
 ],
 "metadata": {
  "language_info": {
   "name": "python"
  },
  "orig_nbformat": 4
 },
 "nbformat": 4,
 "nbformat_minor": 2
}
